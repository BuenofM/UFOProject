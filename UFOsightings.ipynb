{
 "cells": [
  {
   "cell_type": "markdown",
   "metadata": {},
   "source": [
    "inspiration: https://github.com/planetsig/ufo-reports  \n",
    "dataset: https://www.kaggle.com/NUFORC/ufo-sightings\n",
    "\n",
    "\n",
    "**Python was used for preliminary analysis, final visualizations were made using Tableau.**  \n",
    "Presentation summarizing the visualizations: [Google Slides](https://docs.google.com/presentation/d/1JQ5GFWrafuAV3NTZVZhkr8ydXfZ6TlJ6O2hmbk2QF9w/edit?usp=sharing)"
   ]
  },
  {
   "cell_type": "markdown",
   "metadata": {},
   "source": [
    "***\n",
    "***"
   ]
  },
  {
   "cell_type": "code",
   "execution_count": 1,
   "metadata": {},
   "outputs": [],
   "source": [
    "#uninstall geopy"
   ]
  },
  {
   "cell_type": "code",
   "execution_count": 2,
   "metadata": {},
   "outputs": [],
   "source": [
    "import numpy as np\n",
    "import pandas as pd\n",
    "\n",
    "import geopandas as gpd\n",
    "from shapely.geometry import Point\n",
    "\n",
    "import matplotlib.pyplot as plt\n",
    "%matplotlib inline\n",
    "\n",
    "import seaborn as sns\n",
    "sns.set()\n",
    "\n",
    "from scipy import stats\n",
    "from scipy.stats import ttest_1samp, t, sem, norm\n",
    "\n",
    "import warnings\n",
    "warnings.filterwarnings('ignore')"
   ]
  },
  {
   "cell_type": "markdown",
   "metadata": {},
   "source": [
    "***"
   ]
  },
  {
   "cell_type": "code",
   "execution_count": 3,
   "metadata": {},
   "outputs": [],
   "source": [
    "path='/Users/manuelabueno/Documents/GitHub/UFOProject/scrubbed.csv'\n",
    "df=pd.read_csv(path)"
   ]
  },
  {
   "cell_type": "code",
   "execution_count": 4,
   "metadata": {},
   "outputs": [
    {
     "data": {
      "text/html": [
       "<div>\n",
       "<style scoped>\n",
       "    .dataframe tbody tr th:only-of-type {\n",
       "        vertical-align: middle;\n",
       "    }\n",
       "\n",
       "    .dataframe tbody tr th {\n",
       "        vertical-align: top;\n",
       "    }\n",
       "\n",
       "    .dataframe thead th {\n",
       "        text-align: right;\n",
       "    }\n",
       "</style>\n",
       "<table border=\"1\" class=\"dataframe\">\n",
       "  <thead>\n",
       "    <tr style=\"text-align: right;\">\n",
       "      <th></th>\n",
       "      <th>datetime</th>\n",
       "      <th>city</th>\n",
       "      <th>state</th>\n",
       "      <th>country</th>\n",
       "      <th>shape</th>\n",
       "      <th>duration (seconds)</th>\n",
       "      <th>duration (hours/min)</th>\n",
       "      <th>comments</th>\n",
       "      <th>date posted</th>\n",
       "      <th>latitude</th>\n",
       "      <th>longitude</th>\n",
       "    </tr>\n",
       "  </thead>\n",
       "  <tbody>\n",
       "    <tr>\n",
       "      <td>0</td>\n",
       "      <td>10/10/1949 20:30</td>\n",
       "      <td>san marcos</td>\n",
       "      <td>tx</td>\n",
       "      <td>us</td>\n",
       "      <td>cylinder</td>\n",
       "      <td>2700</td>\n",
       "      <td>45 minutes</td>\n",
       "      <td>This event took place in early fall around 194...</td>\n",
       "      <td>4/27/2004</td>\n",
       "      <td>29.8830556</td>\n",
       "      <td>-97.941111</td>\n",
       "    </tr>\n",
       "    <tr>\n",
       "      <td>1</td>\n",
       "      <td>10/10/1949 21:00</td>\n",
       "      <td>lackland afb</td>\n",
       "      <td>tx</td>\n",
       "      <td>NaN</td>\n",
       "      <td>light</td>\n",
       "      <td>7200</td>\n",
       "      <td>1-2 hrs</td>\n",
       "      <td>1949 Lackland AFB&amp;#44 TX.  Lights racing acros...</td>\n",
       "      <td>12/16/2005</td>\n",
       "      <td>29.38421</td>\n",
       "      <td>-98.581082</td>\n",
       "    </tr>\n",
       "    <tr>\n",
       "      <td>2</td>\n",
       "      <td>10/10/1955 17:00</td>\n",
       "      <td>chester (uk/england)</td>\n",
       "      <td>NaN</td>\n",
       "      <td>gb</td>\n",
       "      <td>circle</td>\n",
       "      <td>20</td>\n",
       "      <td>20 seconds</td>\n",
       "      <td>Green/Orange circular disc over Chester&amp;#44 En...</td>\n",
       "      <td>1/21/2008</td>\n",
       "      <td>53.2</td>\n",
       "      <td>-2.916667</td>\n",
       "    </tr>\n",
       "    <tr>\n",
       "      <td>3</td>\n",
       "      <td>10/10/1956 21:00</td>\n",
       "      <td>edna</td>\n",
       "      <td>tx</td>\n",
       "      <td>us</td>\n",
       "      <td>circle</td>\n",
       "      <td>20</td>\n",
       "      <td>1/2 hour</td>\n",
       "      <td>My older brother and twin sister were leaving ...</td>\n",
       "      <td>1/17/2004</td>\n",
       "      <td>28.9783333</td>\n",
       "      <td>-96.645833</td>\n",
       "    </tr>\n",
       "    <tr>\n",
       "      <td>4</td>\n",
       "      <td>10/10/1960 20:00</td>\n",
       "      <td>kaneohe</td>\n",
       "      <td>hi</td>\n",
       "      <td>us</td>\n",
       "      <td>light</td>\n",
       "      <td>900</td>\n",
       "      <td>15 minutes</td>\n",
       "      <td>AS a Marine 1st Lt. flying an FJ4B fighter/att...</td>\n",
       "      <td>1/22/2004</td>\n",
       "      <td>21.4180556</td>\n",
       "      <td>-157.803611</td>\n",
       "    </tr>\n",
       "    <tr>\n",
       "      <td>...</td>\n",
       "      <td>...</td>\n",
       "      <td>...</td>\n",
       "      <td>...</td>\n",
       "      <td>...</td>\n",
       "      <td>...</td>\n",
       "      <td>...</td>\n",
       "      <td>...</td>\n",
       "      <td>...</td>\n",
       "      <td>...</td>\n",
       "      <td>...</td>\n",
       "      <td>...</td>\n",
       "    </tr>\n",
       "    <tr>\n",
       "      <td>80327</td>\n",
       "      <td>9/9/2013 21:15</td>\n",
       "      <td>nashville</td>\n",
       "      <td>tn</td>\n",
       "      <td>us</td>\n",
       "      <td>light</td>\n",
       "      <td>600</td>\n",
       "      <td>10 minutes</td>\n",
       "      <td>Round from the distance/slowly changing colors...</td>\n",
       "      <td>9/30/2013</td>\n",
       "      <td>36.1658</td>\n",
       "      <td>-86.784444</td>\n",
       "    </tr>\n",
       "    <tr>\n",
       "      <td>80328</td>\n",
       "      <td>9/9/2013 22:00</td>\n",
       "      <td>boise</td>\n",
       "      <td>id</td>\n",
       "      <td>us</td>\n",
       "      <td>circle</td>\n",
       "      <td>1200</td>\n",
       "      <td>20 minutes</td>\n",
       "      <td>Boise&amp;#44 ID&amp;#44 spherical&amp;#44 20 min&amp;#44 10 r...</td>\n",
       "      <td>9/30/2013</td>\n",
       "      <td>43.6136</td>\n",
       "      <td>-116.202500</td>\n",
       "    </tr>\n",
       "    <tr>\n",
       "      <td>80329</td>\n",
       "      <td>9/9/2013 22:00</td>\n",
       "      <td>napa</td>\n",
       "      <td>ca</td>\n",
       "      <td>us</td>\n",
       "      <td>other</td>\n",
       "      <td>1200</td>\n",
       "      <td>hour</td>\n",
       "      <td>Napa UFO&amp;#44</td>\n",
       "      <td>9/30/2013</td>\n",
       "      <td>38.2972</td>\n",
       "      <td>-122.284444</td>\n",
       "    </tr>\n",
       "    <tr>\n",
       "      <td>80330</td>\n",
       "      <td>9/9/2013 22:20</td>\n",
       "      <td>vienna</td>\n",
       "      <td>va</td>\n",
       "      <td>us</td>\n",
       "      <td>circle</td>\n",
       "      <td>5</td>\n",
       "      <td>5 seconds</td>\n",
       "      <td>Saw a five gold lit cicular craft moving fastl...</td>\n",
       "      <td>9/30/2013</td>\n",
       "      <td>38.9011</td>\n",
       "      <td>-77.265556</td>\n",
       "    </tr>\n",
       "    <tr>\n",
       "      <td>80331</td>\n",
       "      <td>9/9/2013 23:00</td>\n",
       "      <td>edmond</td>\n",
       "      <td>ok</td>\n",
       "      <td>us</td>\n",
       "      <td>cigar</td>\n",
       "      <td>1020</td>\n",
       "      <td>17 minutes</td>\n",
       "      <td>2 witnesses 2  miles apart&amp;#44 Red &amp;amp; White...</td>\n",
       "      <td>9/30/2013</td>\n",
       "      <td>35.6528</td>\n",
       "      <td>-97.477778</td>\n",
       "    </tr>\n",
       "  </tbody>\n",
       "</table>\n",
       "<p>80332 rows × 11 columns</p>\n",
       "</div>"
      ],
      "text/plain": [
       "               datetime                  city state country     shape  \\\n",
       "0      10/10/1949 20:30            san marcos    tx      us  cylinder   \n",
       "1      10/10/1949 21:00          lackland afb    tx     NaN     light   \n",
       "2      10/10/1955 17:00  chester (uk/england)   NaN      gb    circle   \n",
       "3      10/10/1956 21:00                  edna    tx      us    circle   \n",
       "4      10/10/1960 20:00               kaneohe    hi      us     light   \n",
       "...                 ...                   ...   ...     ...       ...   \n",
       "80327    9/9/2013 21:15             nashville    tn      us     light   \n",
       "80328    9/9/2013 22:00                 boise    id      us    circle   \n",
       "80329    9/9/2013 22:00                  napa    ca      us     other   \n",
       "80330    9/9/2013 22:20                vienna    va      us    circle   \n",
       "80331    9/9/2013 23:00                edmond    ok      us     cigar   \n",
       "\n",
       "      duration (seconds) duration (hours/min)  \\\n",
       "0                   2700           45 minutes   \n",
       "1                   7200              1-2 hrs   \n",
       "2                     20           20 seconds   \n",
       "3                     20             1/2 hour   \n",
       "4                    900           15 minutes   \n",
       "...                  ...                  ...   \n",
       "80327                600           10 minutes   \n",
       "80328               1200           20 minutes   \n",
       "80329               1200                 hour   \n",
       "80330                  5            5 seconds   \n",
       "80331               1020           17 minutes   \n",
       "\n",
       "                                                comments date posted  \\\n",
       "0      This event took place in early fall around 194...   4/27/2004   \n",
       "1      1949 Lackland AFB&#44 TX.  Lights racing acros...  12/16/2005   \n",
       "2      Green/Orange circular disc over Chester&#44 En...   1/21/2008   \n",
       "3      My older brother and twin sister were leaving ...   1/17/2004   \n",
       "4      AS a Marine 1st Lt. flying an FJ4B fighter/att...   1/22/2004   \n",
       "...                                                  ...         ...   \n",
       "80327  Round from the distance/slowly changing colors...   9/30/2013   \n",
       "80328  Boise&#44 ID&#44 spherical&#44 20 min&#44 10 r...   9/30/2013   \n",
       "80329                                       Napa UFO&#44   9/30/2013   \n",
       "80330  Saw a five gold lit cicular craft moving fastl...   9/30/2013   \n",
       "80331  2 witnesses 2  miles apart&#44 Red &amp; White...   9/30/2013   \n",
       "\n",
       "         latitude  longitude   \n",
       "0      29.8830556  -97.941111  \n",
       "1        29.38421  -98.581082  \n",
       "2            53.2   -2.916667  \n",
       "3      28.9783333  -96.645833  \n",
       "4      21.4180556 -157.803611  \n",
       "...           ...         ...  \n",
       "80327     36.1658  -86.784444  \n",
       "80328     43.6136 -116.202500  \n",
       "80329     38.2972 -122.284444  \n",
       "80330     38.9011  -77.265556  \n",
       "80331     35.6528  -97.477778  \n",
       "\n",
       "[80332 rows x 11 columns]"
      ]
     },
     "execution_count": 4,
     "metadata": {},
     "output_type": "execute_result"
    }
   ],
   "source": [
    "df"
   ]
  },
  {
   "cell_type": "code",
   "execution_count": 5,
   "metadata": {},
   "outputs": [
    {
     "data": {
      "text/plain": [
       "Index(['datetime', 'city', 'state', 'country', 'shape', 'duration (seconds)',\n",
       "       'duration (hours/min)', 'comments', 'date posted', 'latitude',\n",
       "       'longitude '],\n",
       "      dtype='object')"
      ]
     },
     "execution_count": 5,
     "metadata": {},
     "output_type": "execute_result"
    }
   ],
   "source": [
    "df.columns"
   ]
  },
  {
   "cell_type": "code",
   "execution_count": 6,
   "metadata": {},
   "outputs": [
    {
     "data": {
      "text/plain": [
       "datetime                 object\n",
       "city                     object\n",
       "state                    object\n",
       "country                  object\n",
       "shape                    object\n",
       "duration (seconds)       object\n",
       "duration (hours/min)     object\n",
       "comments                 object\n",
       "date posted              object\n",
       "latitude                 object\n",
       "longitude               float64\n",
       "dtype: object"
      ]
     },
     "execution_count": 6,
     "metadata": {},
     "output_type": "execute_result"
    }
   ],
   "source": [
    "df.dtypes"
   ]
  },
  {
   "cell_type": "markdown",
   "metadata": {},
   "source": [
    "***"
   ]
  },
  {
   "cell_type": "markdown",
   "metadata": {},
   "source": [
    "**Problem:**"
   ]
  },
  {
   "cell_type": "markdown",
   "metadata": {},
   "source": [
    "- Can we predict the `shape` of an UFO given on the `location`?\n",
    "- Can we predict the `duration` of the appearance depending on the `date/time` ?"
   ]
  },
  {
   "cell_type": "markdown",
   "metadata": {},
   "source": [
    "***\n",
    "***"
   ]
  },
  {
   "cell_type": "markdown",
   "metadata": {},
   "source": [
    "## 1. Cleaning "
   ]
  },
  {
   "cell_type": "markdown",
   "metadata": {},
   "source": [
    "**Datetime**  "
   ]
  },
  {
   "cell_type": "code",
   "execution_count": 7,
   "metadata": {},
   "outputs": [
    {
     "data": {
      "text/plain": [
       "0"
      ]
     },
     "execution_count": 7,
     "metadata": {},
     "output_type": "execute_result"
    }
   ],
   "source": [
    "# Check for null values\n",
    "df['datetime'].isnull().sum()"
   ]
  },
  {
   "cell_type": "code",
   "execution_count": 8,
   "metadata": {},
   "outputs": [],
   "source": [
    "# Split 'datetime' into a new dataframe\n",
    "new = df['datetime'].str.split(\" \", n = 1, expand = True) \n",
    "  \n",
    "# Make separate 'date' and 'time' columns from new dataframe \n",
    "df[\"date\"]= new[0] \n",
    "df[\"time\"]= new[1] \n",
    "  \n",
    "# Drop old 'datetime' column\n",
    "df.drop(columns =[\"datetime\"], inplace = True) "
   ]
  },
  {
   "cell_type": "code",
   "execution_count": 9,
   "metadata": {},
   "outputs": [
    {
     "data": {
      "text/plain": [
       "array([1949, 1955, 1956, 1960, 1961, 1965, 1966, 1968, 1970, 1971, 1972,\n",
       "       1973, 1974, 1975, 1976, 1977, 1978, 1979, 1980, 1982, 1984, 1985,\n",
       "       1986, 1988, 1989, 1990, 1991, 1992, 1993, 1994, 1995, 1996, 1997,\n",
       "       1998, 1999, 2000, 2001, 2002, 2003, 2004, 2005, 2006, 2007, 2008,\n",
       "       2009, 2010, 2011, 2012, 2013, 1987, 1950, 1952, 1954, 1957, 1959,\n",
       "       1967, 1969, 1981, 1983, 1936, 1943, 1953, 1962, 1964, 1958, 1963,\n",
       "       1947, 2014, 1906, 1951, 1910, 1944, 1948, 1945, 1946, 1925, 1931,\n",
       "       1933, 1916, 1920, 1930, 1939, 1941, 1942, 1937, 1929, 1934])"
      ]
     },
     "execution_count": 9,
     "metadata": {},
     "output_type": "execute_result"
    }
   ],
   "source": [
    "# Create a column with only the year\n",
    "df['year'] = df['date'].str[-4:]\n",
    "df['year'] = df['year'].astype(int)\n",
    "df['year'].unique()"
   ]
  },
  {
   "cell_type": "code",
   "execution_count": 10,
   "metadata": {},
   "outputs": [
    {
     "data": {
      "text/plain": [
       "12"
      ]
     },
     "execution_count": 10,
     "metadata": {},
     "output_type": "execute_result"
    }
   ],
   "source": [
    "# Create a column with only the month\n",
    "df['month'] = df['date'].str[:2]\n",
    "df['month'] = df['month'].str.strip('/')\n",
    "df['month'] = df['month'].astype(int)\n",
    "df['month'].nunique()"
   ]
  },
  {
   "cell_type": "code",
   "execution_count": 11,
   "metadata": {
    "scrolled": true
   },
   "outputs": [],
   "source": [
    "# Clean 'date'\n",
    "df['date'] = pd.to_datetime(df.date, format='%m/%d/%Y')"
   ]
  },
  {
   "cell_type": "code",
   "execution_count": 12,
   "metadata": {},
   "outputs": [
    {
     "data": {
      "text/plain": [
       "7"
      ]
     },
     "execution_count": 12,
     "metadata": {},
     "output_type": "execute_result"
    }
   ],
   "source": [
    "# Create a column with the day of the week for each sighting,\n",
    "#   with Monday=0, Sunday=6\n",
    "df['weekday'] = df['date'].dt.weekday\n",
    "df['weekday'].nunique()"
   ]
  },
  {
   "cell_type": "code",
   "execution_count": 13,
   "metadata": {},
   "outputs": [
    {
     "data": {
      "text/plain": [
       "0        2030\n",
       "1        2100\n",
       "2        1700\n",
       "3        2100\n",
       "4        2000\n",
       "         ... \n",
       "80327    2115\n",
       "80328    2200\n",
       "80329    2200\n",
       "80330    2220\n",
       "80331    2300\n",
       "Name: time, Length: 80332, dtype: int64"
      ]
     },
     "execution_count": 13,
     "metadata": {},
     "output_type": "execute_result"
    }
   ],
   "source": [
    "# Clean 'time'\n",
    "#df['time'] = pd.to_timedelta(df.time + ':00')\n",
    "df['time'] = df['time'].str.replace(':', '')\n",
    "df['time'] = df['time'].astype(int)\n",
    "df['time']"
   ]
  },
  {
   "cell_type": "code",
   "execution_count": 14,
   "metadata": {},
   "outputs": [
    {
     "data": {
      "text/plain": [
       "Index(['city', 'state', 'country', 'shape', 'duration (seconds)',\n",
       "       'duration (hours/min)', 'comments', 'date posted', 'latitude',\n",
       "       'longitude ', 'date', 'time', 'year', 'month', 'weekday'],\n",
       "      dtype='object')"
      ]
     },
     "execution_count": 14,
     "metadata": {},
     "output_type": "execute_result"
    }
   ],
   "source": [
    "# Check changes\n",
    "df.columns"
   ]
  },
  {
   "cell_type": "code",
   "execution_count": 15,
   "metadata": {},
   "outputs": [
    {
     "data": {
      "text/plain": [
       "city                            object\n",
       "state                           object\n",
       "country                         object\n",
       "shape                           object\n",
       "duration (seconds)              object\n",
       "duration (hours/min)            object\n",
       "comments                        object\n",
       "date posted                     object\n",
       "latitude                        object\n",
       "longitude                      float64\n",
       "date                    datetime64[ns]\n",
       "time                             int64\n",
       "year                             int64\n",
       "month                            int64\n",
       "weekday                          int64\n",
       "dtype: object"
      ]
     },
     "execution_count": 15,
     "metadata": {},
     "output_type": "execute_result"
    }
   ],
   "source": [
    "df.dtypes"
   ]
  },
  {
   "cell_type": "markdown",
   "metadata": {},
   "source": [
    "***"
   ]
  },
  {
   "cell_type": "markdown",
   "metadata": {},
   "source": [
    "**Date Posted**"
   ]
  },
  {
   "cell_type": "code",
   "execution_count": 16,
   "metadata": {},
   "outputs": [],
   "source": [
    "df.rename(columns={'date posted':'date_posted'}, inplace=True)"
   ]
  },
  {
   "cell_type": "code",
   "execution_count": 17,
   "metadata": {},
   "outputs": [
    {
     "data": {
      "text/plain": [
       "0       2004-04-27\n",
       "1       2005-12-16\n",
       "2       2008-01-21\n",
       "3       2004-01-17\n",
       "4       2004-01-22\n",
       "           ...    \n",
       "80327   2013-09-30\n",
       "80328   2013-09-30\n",
       "80329   2013-09-30\n",
       "80330   2013-09-30\n",
       "80331   2013-09-30\n",
       "Name: date_posted, Length: 80332, dtype: datetime64[ns]"
      ]
     },
     "execution_count": 17,
     "metadata": {},
     "output_type": "execute_result"
    }
   ],
   "source": [
    "# Change the dtype to datetime\n",
    "df['date_posted'] = pd.to_datetime(df['date_posted'], format='%m/%d/%Y')\n",
    "df['date_posted']"
   ]
  },
  {
   "cell_type": "markdown",
   "metadata": {},
   "source": [
    "***"
   ]
  },
  {
   "cell_type": "markdown",
   "metadata": {},
   "source": [
    "**Shape**"
   ]
  },
  {
   "cell_type": "code",
   "execution_count": 18,
   "metadata": {},
   "outputs": [
    {
     "data": {
      "text/plain": [
       "1932"
      ]
     },
     "execution_count": 18,
     "metadata": {},
     "output_type": "execute_result"
    }
   ],
   "source": [
    "# Check for null values\n",
    "df['shape'].isnull().sum()"
   ]
  },
  {
   "cell_type": "code",
   "execution_count": 19,
   "metadata": {},
   "outputs": [
    {
     "data": {
      "text/plain": [
       "array(['cylinder', 'light', 'circle', 'sphere', 'disk', 'fireball',\n",
       "       'unknown', 'oval', 'other', 'cigar', 'rectangle', 'chevron',\n",
       "       'triangle', 'formation', nan, 'delta', 'changing', 'egg',\n",
       "       'diamond', 'flash', 'teardrop', 'cone', 'cross', 'pyramid',\n",
       "       'round', 'crescent', 'flare', 'hexagon', 'dome', 'changed'],\n",
       "      dtype=object)"
      ]
     },
     "execution_count": 19,
     "metadata": {},
     "output_type": "execute_result"
    }
   ],
   "source": [
    "# Check the shapes\n",
    "df['shape'].unique()"
   ]
  },
  {
   "cell_type": "code",
   "execution_count": 20,
   "metadata": {},
   "outputs": [],
   "source": [
    "# Classify these shapes to reduce number of unique values:\n",
    "circular = ['cylinder', 'circle', 'sphere', 'disk', 'oval', 'egg', 'round', 'dome', 'cigar', 'teardrop']\n",
    "triangular = ['triangle', 'cone', 'pyramid', 'delta', 'crescent'] \n",
    "quadrilateral = ['rectangle', 'diamond']\n",
    "hexagonal = ['hexagon', 'chevron']\n",
    "complicated = ['cross', 'formation', 'changing', 'changed', 'other']\n",
    "bright = ['light', 'fireball', 'flash', 'flare']\n",
    "unspecified = ['unknown']\n",
    "\n",
    "df['shape'] = np.where(df['shape'].isin(circular), 'circular', df['shape'])\n",
    "df['shape'] = np.where(df['shape'].isin(triangular), 'triangular', df['shape'])\n",
    "df['shape'] = np.where(df['shape'].isin(quadrilateral), 'quadrilateral', df['shape'])\n",
    "df['shape'] = np.where(df['shape'].isin(hexagonal), 'hexagonal', df['shape'])\n",
    "df['shape'] = np.where(df['shape'].isin(complicated), 'complicated', df['shape'])\n",
    "df['shape'] = np.where(df['shape'].isin(bright), 'bright', df['shape'])\n",
    "df['shape'] = np.where(df['shape'].isin(unspecified), 'unspecified', df['shape'])\n",
    "df['shape'].fillna('unspecified', inplace=True)"
   ]
  },
  {
   "cell_type": "code",
   "execution_count": 21,
   "metadata": {},
   "outputs": [
    {
     "data": {
      "text/plain": [
       "circular         0.333528\n",
       "bright           0.300030\n",
       "complicated      0.128243\n",
       "triangular       0.101964\n",
       "unspecified      0.093562\n",
       "quadrilateral    0.030810\n",
       "hexagonal        0.011863\n",
       "Name: shape, dtype: float64"
      ]
     },
     "execution_count": 21,
     "metadata": {},
     "output_type": "execute_result"
    }
   ],
   "source": [
    " df['shape'].value_counts(normalize=True)"
   ]
  },
  {
   "cell_type": "code",
   "execution_count": 22,
   "metadata": {},
   "outputs": [],
   "source": [
    "# Encode the unique values\n",
    "#df['shape'] = df['shape'].astype('category')\n",
    "#df['shape'] = df['shape'].cat.codes\n",
    "#df['shape'].value_counts()"
   ]
  },
  {
   "cell_type": "code",
   "execution_count": 23,
   "metadata": {},
   "outputs": [],
   "source": [
    "#bright         =  0\n",
    "#circular       =  1\n",
    "#complicated    =  2\n",
    "#hexagonal      =  3\n",
    "#quadrilateral  =  4\n",
    "#triangular     =  5\n",
    "#unspecified    =  6"
   ]
  },
  {
   "cell_type": "markdown",
   "metadata": {},
   "source": [
    "***"
   ]
  },
  {
   "cell_type": "markdown",
   "metadata": {},
   "source": [
    "**Duration in Seconds**"
   ]
  },
  {
   "cell_type": "code",
   "execution_count": 24,
   "metadata": {},
   "outputs": [],
   "source": [
    "df.rename(columns={'duration (seconds)':'duration_seconds'}, inplace=True)"
   ]
  },
  {
   "cell_type": "code",
   "execution_count": 25,
   "metadata": {},
   "outputs": [],
   "source": [
    "# Change dtype\n",
    "df['duration_seconds'] = pd.to_numeric(df['duration_seconds'], errors='coerce')"
   ]
  },
  {
   "cell_type": "code",
   "execution_count": 26,
   "metadata": {
    "scrolled": true
   },
   "outputs": [
    {
     "data": {
      "text/html": [
       "<div>\n",
       "<style scoped>\n",
       "    .dataframe tbody tr th:only-of-type {\n",
       "        vertical-align: middle;\n",
       "    }\n",
       "\n",
       "    .dataframe tbody tr th {\n",
       "        vertical-align: top;\n",
       "    }\n",
       "\n",
       "    .dataframe thead th {\n",
       "        text-align: right;\n",
       "    }\n",
       "</style>\n",
       "<table border=\"1\" class=\"dataframe\">\n",
       "  <thead>\n",
       "    <tr style=\"text-align: right;\">\n",
       "      <th></th>\n",
       "      <th>city</th>\n",
       "      <th>state</th>\n",
       "      <th>country</th>\n",
       "      <th>shape</th>\n",
       "      <th>duration_seconds</th>\n",
       "      <th>duration (hours/min)</th>\n",
       "      <th>comments</th>\n",
       "      <th>date_posted</th>\n",
       "      <th>latitude</th>\n",
       "      <th>longitude</th>\n",
       "      <th>date</th>\n",
       "      <th>time</th>\n",
       "      <th>year</th>\n",
       "      <th>month</th>\n",
       "      <th>weekday</th>\n",
       "    </tr>\n",
       "  </thead>\n",
       "  <tbody>\n",
       "    <tr>\n",
       "      <td>27822</td>\n",
       "      <td>bouse</td>\n",
       "      <td>az</td>\n",
       "      <td>us</td>\n",
       "      <td>unspecified</td>\n",
       "      <td>NaN</td>\n",
       "      <td>each a few seconds</td>\n",
       "      <td>Driving through Plomosa Pass towards Bouse Loo...</td>\n",
       "      <td>2000-02-16</td>\n",
       "      <td>33.9325000</td>\n",
       "      <td>-114.005000</td>\n",
       "      <td>2000-02-02</td>\n",
       "      <td>1933</td>\n",
       "      <td>2000</td>\n",
       "      <td>2</td>\n",
       "      <td>2</td>\n",
       "    </tr>\n",
       "    <tr>\n",
       "      <td>35692</td>\n",
       "      <td>santa cruz</td>\n",
       "      <td>ca</td>\n",
       "      <td>us</td>\n",
       "      <td>unspecified</td>\n",
       "      <td>NaN</td>\n",
       "      <td>eight seconds</td>\n",
       "      <td>2 red lights moving together and apart with a ...</td>\n",
       "      <td>2005-04-16</td>\n",
       "      <td>36.9741667</td>\n",
       "      <td>-122.029722</td>\n",
       "      <td>2005-04-10</td>\n",
       "      <td>2252</td>\n",
       "      <td>2005</td>\n",
       "      <td>4</td>\n",
       "      <td>6</td>\n",
       "    </tr>\n",
       "    <tr>\n",
       "      <td>58591</td>\n",
       "      <td>ibague (colombia)</td>\n",
       "      <td>NaN</td>\n",
       "      <td>NaN</td>\n",
       "      <td>circular</td>\n",
       "      <td>NaN</td>\n",
       "      <td>1/2 segundo</td>\n",
       "      <td>Viajaba a 27.000 pies en un avion comercial ve...</td>\n",
       "      <td>2006-10-30</td>\n",
       "      <td>4.440663</td>\n",
       "      <td>-75.244141</td>\n",
       "      <td>2006-07-21</td>\n",
       "      <td>1300</td>\n",
       "      <td>2006</td>\n",
       "      <td>7</td>\n",
       "      <td>4</td>\n",
       "    </tr>\n",
       "  </tbody>\n",
       "</table>\n",
       "</div>"
      ],
      "text/plain": [
       "                    city state country        shape  duration_seconds  \\\n",
       "27822              bouse    az      us  unspecified               NaN   \n",
       "35692         santa cruz    ca      us  unspecified               NaN   \n",
       "58591  ibague (colombia)   NaN     NaN     circular               NaN   \n",
       "\n",
       "      duration (hours/min)                                           comments  \\\n",
       "27822   each a few seconds  Driving through Plomosa Pass towards Bouse Loo...   \n",
       "35692        eight seconds  2 red lights moving together and apart with a ...   \n",
       "58591          1/2 segundo  Viajaba a 27.000 pies en un avion comercial ve...   \n",
       "\n",
       "      date_posted    latitude  longitude        date  time  year  month  \\\n",
       "27822  2000-02-16  33.9325000 -114.005000 2000-02-02  1933  2000      2   \n",
       "35692  2005-04-16  36.9741667 -122.029722 2005-04-10  2252  2005      4   \n",
       "58591  2006-10-30    4.440663  -75.244141 2006-07-21  1300  2006      7   \n",
       "\n",
       "       weekday  \n",
       "27822        2  \n",
       "35692        6  \n",
       "58591        4  "
      ]
     },
     "execution_count": 26,
     "metadata": {},
     "output_type": "execute_result"
    }
   ],
   "source": [
    "# Check for null values\n",
    "df[df['duration_seconds'].isnull()]"
   ]
  },
  {
   "cell_type": "code",
   "execution_count": 27,
   "metadata": {},
   "outputs": [],
   "source": [
    "# Since we can see the duration under (hours/min), we can update the 3 null values manually\n",
    "df.at[27822, 'duration_seconds'] = 2.0\n",
    "df.at[35692, 'duration_seconds'] = 8.0\n",
    "df.at[58591, 'duration_seconds'] = 2.0"
   ]
  },
  {
   "cell_type": "code",
   "execution_count": 28,
   "metadata": {},
   "outputs": [
    {
     "data": {
      "text/plain": [
       "0"
      ]
     },
     "execution_count": 28,
     "metadata": {},
     "output_type": "execute_result"
    }
   ],
   "source": [
    "df['duration_seconds'].isnull().sum()"
   ]
  },
  {
   "cell_type": "code",
   "execution_count": 29,
   "metadata": {},
   "outputs": [
    {
     "data": {
      "text/plain": [
       "count       80332.0\n",
       "mean         9017.0\n",
       "std        620217.0\n",
       "min             0.0\n",
       "25%            30.0\n",
       "50%           180.0\n",
       "75%           600.0\n",
       "max      97836000.0\n",
       "Name: duration_seconds, dtype: float64"
      ]
     },
     "execution_count": 29,
     "metadata": {},
     "output_type": "execute_result"
    }
   ],
   "source": [
    "# What is the distirbution of durations we have\n",
    "df['duration_seconds'].describe().round()"
   ]
  },
  {
   "cell_type": "code",
   "execution_count": 30,
   "metadata": {
    "scrolled": false
   },
   "outputs": [
    {
     "data": {
      "text/html": [
       "<div>\n",
       "<style scoped>\n",
       "    .dataframe tbody tr th:only-of-type {\n",
       "        vertical-align: middle;\n",
       "    }\n",
       "\n",
       "    .dataframe tbody tr th {\n",
       "        vertical-align: top;\n",
       "    }\n",
       "\n",
       "    .dataframe thead th {\n",
       "        text-align: right;\n",
       "    }\n",
       "</style>\n",
       "<table border=\"1\" class=\"dataframe\">\n",
       "  <thead>\n",
       "    <tr style=\"text-align: right;\">\n",
       "      <th></th>\n",
       "      <th>city</th>\n",
       "      <th>state</th>\n",
       "      <th>country</th>\n",
       "      <th>shape</th>\n",
       "      <th>duration_seconds</th>\n",
       "      <th>duration (hours/min)</th>\n",
       "      <th>comments</th>\n",
       "      <th>date_posted</th>\n",
       "      <th>latitude</th>\n",
       "      <th>longitude</th>\n",
       "      <th>date</th>\n",
       "      <th>time</th>\n",
       "      <th>year</th>\n",
       "      <th>month</th>\n",
       "      <th>weekday</th>\n",
       "    </tr>\n",
       "  </thead>\n",
       "  <tbody>\n",
       "    <tr>\n",
       "      <td>64390</td>\n",
       "      <td>finley</td>\n",
       "      <td>wa</td>\n",
       "      <td>us</td>\n",
       "      <td>bright</td>\n",
       "      <td>52623200.0</td>\n",
       "      <td>2 months</td>\n",
       "      <td>There have been several flying objects in a pe...</td>\n",
       "      <td>2012-08-19</td>\n",
       "      <td>46.1541667</td>\n",
       "      <td>-119.032778</td>\n",
       "      <td>2012-08-10</td>\n",
       "      <td>2100</td>\n",
       "      <td>2012</td>\n",
       "      <td>8</td>\n",
       "      <td>4</td>\n",
       "    </tr>\n",
       "    <tr>\n",
       "      <td>74660</td>\n",
       "      <td>greenbrier</td>\n",
       "      <td>ar</td>\n",
       "      <td>us</td>\n",
       "      <td>bright</td>\n",
       "      <td>66276000.0</td>\n",
       "      <td>21 years</td>\n",
       "      <td>Orange or amber balls or orbs of light multipl...</td>\n",
       "      <td>2008-03-31</td>\n",
       "      <td>35.2339</td>\n",
       "      <td>-92.387500</td>\n",
       "      <td>1991-09-15</td>\n",
       "      <td>1800</td>\n",
       "      <td>1991</td>\n",
       "      <td>9</td>\n",
       "      <td>6</td>\n",
       "    </tr>\n",
       "    <tr>\n",
       "      <td>53384</td>\n",
       "      <td>ottawa (canada)</td>\n",
       "      <td>on</td>\n",
       "      <td>ca</td>\n",
       "      <td>complicated</td>\n",
       "      <td>82800000.0</td>\n",
       "      <td>23000hrs</td>\n",
       "      <td>((HOAX??))  I was out in a field near mil&amp;#44 ...</td>\n",
       "      <td>2010-07-06</td>\n",
       "      <td>45.416667</td>\n",
       "      <td>-75.700000</td>\n",
       "      <td>2010-06-03</td>\n",
       "      <td>2330</td>\n",
       "      <td>2010</td>\n",
       "      <td>6</td>\n",
       "      <td>3</td>\n",
       "    </tr>\n",
       "    <tr>\n",
       "      <td>559</td>\n",
       "      <td>birmingham (uk/england)</td>\n",
       "      <td>NaN</td>\n",
       "      <td>gb</td>\n",
       "      <td>circular</td>\n",
       "      <td>97836000.0</td>\n",
       "      <td>31 years</td>\n",
       "      <td>Firstly&amp;#44 I was stunned and stared at the ob...</td>\n",
       "      <td>2013-04-12</td>\n",
       "      <td>52.466667</td>\n",
       "      <td>-1.916667</td>\n",
       "      <td>1983-10-01</td>\n",
       "      <td>1700</td>\n",
       "      <td>1983</td>\n",
       "      <td>10</td>\n",
       "      <td>5</td>\n",
       "    </tr>\n",
       "  </tbody>\n",
       "</table>\n",
       "</div>"
      ],
      "text/plain": [
       "                          city state country        shape  duration_seconds  \\\n",
       "64390                   finley    wa      us       bright        52623200.0   \n",
       "74660               greenbrier    ar      us       bright        66276000.0   \n",
       "53384          ottawa (canada)    on      ca  complicated        82800000.0   \n",
       "559    birmingham (uk/england)   NaN      gb     circular        97836000.0   \n",
       "\n",
       "      duration (hours/min)                                           comments  \\\n",
       "64390             2 months  There have been several flying objects in a pe...   \n",
       "74660             21 years  Orange or amber balls or orbs of light multipl...   \n",
       "53384             23000hrs  ((HOAX??))  I was out in a field near mil&#44 ...   \n",
       "559               31 years  Firstly&#44 I was stunned and stared at the ob...   \n",
       "\n",
       "      date_posted    latitude  longitude        date  time  year  month  \\\n",
       "64390  2012-08-19  46.1541667 -119.032778 2012-08-10  2100  2012      8   \n",
       "74660  2008-03-31     35.2339  -92.387500 1991-09-15  1800  1991      9   \n",
       "53384  2010-07-06   45.416667  -75.700000 2010-06-03  2330  2010      6   \n",
       "559    2013-04-12   52.466667   -1.916667 1983-10-01  1700  1983     10   \n",
       "\n",
       "       weekday  \n",
       "64390        4  \n",
       "74660        6  \n",
       "53384        3  \n",
       "559          5  "
      ]
     },
     "execution_count": 30,
     "metadata": {},
     "output_type": "execute_result"
    }
   ],
   "source": [
    "# We clearly have some outliers: 75% of the sightings last around 600 seconds (10 min) \n",
    "#  (which is still questionable but acceptable if we consider people tend to exagerate)\n",
    "#  BUT our longest sighting apparently lasted 31 years... \n",
    "df.sort_values(by=['duration_seconds']).tail(4)"
   ]
  },
  {
   "cell_type": "code",
   "execution_count": 31,
   "metadata": {},
   "outputs": [
    {
     "data": {
      "text/plain": [
       "'Firstly&#44 I was stunned and stared at the object for what seemed minutes&#44 but probably was only seconds. My first inclination was to bec'"
      ]
     },
     "execution_count": 31,
     "metadata": {},
     "output_type": "execute_result"
    }
   ],
   "source": [
    "# There's a big chance these reports are incorrectly filed, or maybe they're refering to abductions!\n",
    "# ...anyway the comments don't give any useful information or simply don't add up.\n",
    "df['comments'].iloc[559]"
   ]
  },
  {
   "cell_type": "code",
   "execution_count": 32,
   "metadata": {},
   "outputs": [
    {
     "data": {
      "text/plain": [
       "'There have been several flying objects in a period of about two months that look like an orb of white light (resembling a star). They m'"
      ]
     },
     "execution_count": 32,
     "metadata": {},
     "output_type": "execute_result"
    }
   ],
   "source": [
    "# In some cases we clearly see the duration is actually the period of time these individuals saw the ufo's\n",
    "# and not the duration of the sighting itself\n",
    "df['comments'].iloc[64390]"
   ]
  },
  {
   "cell_type": "code",
   "execution_count": 33,
   "metadata": {},
   "outputs": [
    {
     "data": {
      "text/plain": [
       "(80332, 15)"
      ]
     },
     "execution_count": 33,
     "metadata": {},
     "output_type": "execute_result"
    }
   ],
   "source": [
    "df.shape"
   ]
  },
  {
   "cell_type": "code",
   "execution_count": 34,
   "metadata": {
    "scrolled": true
   },
   "outputs": [
    {
     "data": {
      "text/html": [
       "<div>\n",
       "<style scoped>\n",
       "    .dataframe tbody tr th:only-of-type {\n",
       "        vertical-align: middle;\n",
       "    }\n",
       "\n",
       "    .dataframe tbody tr th {\n",
       "        vertical-align: top;\n",
       "    }\n",
       "\n",
       "    .dataframe thead th {\n",
       "        text-align: right;\n",
       "    }\n",
       "</style>\n",
       "<table border=\"1\" class=\"dataframe\">\n",
       "  <thead>\n",
       "    <tr style=\"text-align: right;\">\n",
       "      <th></th>\n",
       "      <th>city</th>\n",
       "      <th>state</th>\n",
       "      <th>country</th>\n",
       "      <th>shape</th>\n",
       "      <th>duration_seconds</th>\n",
       "      <th>duration (hours/min)</th>\n",
       "      <th>comments</th>\n",
       "      <th>date_posted</th>\n",
       "      <th>latitude</th>\n",
       "      <th>longitude</th>\n",
       "      <th>date</th>\n",
       "      <th>time</th>\n",
       "      <th>year</th>\n",
       "      <th>month</th>\n",
       "      <th>weekday</th>\n",
       "    </tr>\n",
       "  </thead>\n",
       "  <tbody>\n",
       "    <tr>\n",
       "      <td>68</td>\n",
       "      <td>connersville</td>\n",
       "      <td>in</td>\n",
       "      <td>us</td>\n",
       "      <td>triangular</td>\n",
       "      <td>14400.0</td>\n",
       "      <td>4 hours</td>\n",
       "      <td>3 differants types &amp;#44 cluster &amp;#44delta &amp;#44...</td>\n",
       "      <td>1999-01-28</td>\n",
       "      <td>39.6411111</td>\n",
       "      <td>-85.141111</td>\n",
       "      <td>1997-10-10</td>\n",
       "      <td>1600</td>\n",
       "      <td>1997</td>\n",
       "      <td>10</td>\n",
       "      <td>4</td>\n",
       "    </tr>\n",
       "    <tr>\n",
       "      <td>88</td>\n",
       "      <td>rachel</td>\n",
       "      <td>nv</td>\n",
       "      <td>us</td>\n",
       "      <td>bright</td>\n",
       "      <td>10800.0</td>\n",
       "      <td>3 hours</td>\n",
       "      <td>Bright lights with incredible agility seen fro...</td>\n",
       "      <td>2005-05-24</td>\n",
       "      <td>37.6447222</td>\n",
       "      <td>-115.742778</td>\n",
       "      <td>1999-10-10</td>\n",
       "      <td>2100</td>\n",
       "      <td>1999</td>\n",
       "      <td>10</td>\n",
       "      <td>6</td>\n",
       "    </tr>\n",
       "    <tr>\n",
       "      <td>122</td>\n",
       "      <td>temperance</td>\n",
       "      <td>mi</td>\n",
       "      <td>us</td>\n",
       "      <td>circular</td>\n",
       "      <td>18000.0</td>\n",
       "      <td>over 5 hours</td>\n",
       "      <td>pulsating green white and red object in the no...</td>\n",
       "      <td>2003-10-31</td>\n",
       "      <td>41.7791667</td>\n",
       "      <td>-83.568889</td>\n",
       "      <td>2003-10-10</td>\n",
       "      <td>2025</td>\n",
       "      <td>2003</td>\n",
       "      <td>10</td>\n",
       "      <td>4</td>\n",
       "    </tr>\n",
       "    <tr>\n",
       "      <td>123</td>\n",
       "      <td>crescent beach</td>\n",
       "      <td>sc</td>\n",
       "      <td>us</td>\n",
       "      <td>complicated</td>\n",
       "      <td>37800.0</td>\n",
       "      <td>1 1/2 hr.</td>\n",
       "      <td>For two consecutive nights&amp;#44 we watched a pa...</td>\n",
       "      <td>2004-01-17</td>\n",
       "      <td>33.8075000</td>\n",
       "      <td>-78.701111</td>\n",
       "      <td>2003-10-10</td>\n",
       "      <td>2110</td>\n",
       "      <td>2003</td>\n",
       "      <td>10</td>\n",
       "      <td>4</td>\n",
       "    </tr>\n",
       "    <tr>\n",
       "      <td>165</td>\n",
       "      <td>lebanon</td>\n",
       "      <td>or</td>\n",
       "      <td>us</td>\n",
       "      <td>bright</td>\n",
       "      <td>14400.0</td>\n",
       "      <td>4 hours</td>\n",
       "      <td>Small Orange-White &amp;quot;star&amp;quot; that moves...</td>\n",
       "      <td>2007-11-28</td>\n",
       "      <td>44.5366667</td>\n",
       "      <td>-122.905833</td>\n",
       "      <td>2007-10-10</td>\n",
       "      <td>100</td>\n",
       "      <td>2007</td>\n",
       "      <td>10</td>\n",
       "      <td>2</td>\n",
       "    </tr>\n",
       "    <tr>\n",
       "      <td>...</td>\n",
       "      <td>...</td>\n",
       "      <td>...</td>\n",
       "      <td>...</td>\n",
       "      <td>...</td>\n",
       "      <td>...</td>\n",
       "      <td>...</td>\n",
       "      <td>...</td>\n",
       "      <td>...</td>\n",
       "      <td>...</td>\n",
       "      <td>...</td>\n",
       "      <td>...</td>\n",
       "      <td>...</td>\n",
       "      <td>...</td>\n",
       "      <td>...</td>\n",
       "      <td>...</td>\n",
       "    </tr>\n",
       "    <tr>\n",
       "      <td>80031</td>\n",
       "      <td>niagara falls (canada)</td>\n",
       "      <td>on</td>\n",
       "      <td>ca</td>\n",
       "      <td>bright</td>\n",
       "      <td>10800.0</td>\n",
       "      <td>3 hours</td>\n",
       "      <td>For about the past year I have seen 3 slightly...</td>\n",
       "      <td>2010-11-21</td>\n",
       "      <td>43.1</td>\n",
       "      <td>-79.050000</td>\n",
       "      <td>2010-09-08</td>\n",
       "      <td>2200</td>\n",
       "      <td>2010</td>\n",
       "      <td>9</td>\n",
       "      <td>2</td>\n",
       "    </tr>\n",
       "    <tr>\n",
       "      <td>80052</td>\n",
       "      <td>stroudsburg</td>\n",
       "      <td>pa</td>\n",
       "      <td>us</td>\n",
       "      <td>circular</td>\n",
       "      <td>14400.0</td>\n",
       "      <td>4 hours</td>\n",
       "      <td>Fourth sighting of UFOs in the week at the sam...</td>\n",
       "      <td>2012-09-24</td>\n",
       "      <td>40.9867</td>\n",
       "      <td>-75.195000</td>\n",
       "      <td>2012-09-08</td>\n",
       "      <td>200</td>\n",
       "      <td>2012</td>\n",
       "      <td>9</td>\n",
       "      <td>5</td>\n",
       "    </tr>\n",
       "    <tr>\n",
       "      <td>80057</td>\n",
       "      <td>rocky boy</td>\n",
       "      <td>mt</td>\n",
       "      <td>us</td>\n",
       "      <td>quadrilateral</td>\n",
       "      <td>10800.0</td>\n",
       "      <td>2-3 hours</td>\n",
       "      <td>Me &amp;amp; a couple of friends went outside to s...</td>\n",
       "      <td>2012-09-24</td>\n",
       "      <td>48.2561</td>\n",
       "      <td>-109.787500</td>\n",
       "      <td>2012-09-08</td>\n",
       "      <td>1630</td>\n",
       "      <td>2012</td>\n",
       "      <td>9</td>\n",
       "      <td>5</td>\n",
       "    </tr>\n",
       "    <tr>\n",
       "      <td>80128</td>\n",
       "      <td>mount shasta</td>\n",
       "      <td>ca</td>\n",
       "      <td>us</td>\n",
       "      <td>unspecified</td>\n",
       "      <td>18000.0</td>\n",
       "      <td>5 hours</td>\n",
       "      <td>multiple anomalious lights&amp;#44white flashes&amp;#4...</td>\n",
       "      <td>1999-10-02</td>\n",
       "      <td>41.31</td>\n",
       "      <td>-122.309444</td>\n",
       "      <td>1999-09-09</td>\n",
       "      <td>2200</td>\n",
       "      <td>1999</td>\n",
       "      <td>9</td>\n",
       "      <td>3</td>\n",
       "    </tr>\n",
       "    <tr>\n",
       "      <td>80302</td>\n",
       "      <td>wilson</td>\n",
       "      <td>nc</td>\n",
       "      <td>us</td>\n",
       "      <td>bright</td>\n",
       "      <td>10800.0</td>\n",
       "      <td>3 hours</td>\n",
       "      <td>Bright orb being chased by a jet along with se...</td>\n",
       "      <td>2012-09-24</td>\n",
       "      <td>35.7211</td>\n",
       "      <td>-77.915833</td>\n",
       "      <td>2012-09-09</td>\n",
       "      <td>2000</td>\n",
       "      <td>2012</td>\n",
       "      <td>9</td>\n",
       "      <td>6</td>\n",
       "    </tr>\n",
       "  </tbody>\n",
       "</table>\n",
       "<p>1450 rows × 15 columns</p>\n",
       "</div>"
      ],
      "text/plain": [
       "                         city state country          shape  duration_seconds  \\\n",
       "68               connersville    in      us     triangular           14400.0   \n",
       "88                     rachel    nv      us         bright           10800.0   \n",
       "122                temperance    mi      us       circular           18000.0   \n",
       "123            crescent beach    sc      us    complicated           37800.0   \n",
       "165                   lebanon    or      us         bright           14400.0   \n",
       "...                       ...   ...     ...            ...               ...   \n",
       "80031  niagara falls (canada)    on      ca         bright           10800.0   \n",
       "80052             stroudsburg    pa      us       circular           14400.0   \n",
       "80057               rocky boy    mt      us  quadrilateral           10800.0   \n",
       "80128            mount shasta    ca      us    unspecified           18000.0   \n",
       "80302                  wilson    nc      us         bright           10800.0   \n",
       "\n",
       "      duration (hours/min)                                           comments  \\\n",
       "68                 4 hours  3 differants types &#44 cluster &#44delta &#44...   \n",
       "88                 3 hours  Bright lights with incredible agility seen fro...   \n",
       "122           over 5 hours  pulsating green white and red object in the no...   \n",
       "123              1 1/2 hr.  For two consecutive nights&#44 we watched a pa...   \n",
       "165                4 hours  Small Orange-White &quot;star&quot; that moves...   \n",
       "...                    ...                                                ...   \n",
       "80031              3 hours  For about the past year I have seen 3 slightly...   \n",
       "80052              4 hours  Fourth sighting of UFOs in the week at the sam...   \n",
       "80057            2-3 hours  Me &amp; a couple of friends went outside to s...   \n",
       "80128              5 hours  multiple anomalious lights&#44white flashes&#4...   \n",
       "80302              3 hours  Bright orb being chased by a jet along with se...   \n",
       "\n",
       "      date_posted    latitude  longitude        date  time  year  month  \\\n",
       "68     1999-01-28  39.6411111  -85.141111 1997-10-10  1600  1997     10   \n",
       "88     2005-05-24  37.6447222 -115.742778 1999-10-10  2100  1999     10   \n",
       "122    2003-10-31  41.7791667  -83.568889 2003-10-10  2025  2003     10   \n",
       "123    2004-01-17  33.8075000  -78.701111 2003-10-10  2110  2003     10   \n",
       "165    2007-11-28  44.5366667 -122.905833 2007-10-10   100  2007     10   \n",
       "...           ...         ...         ...        ...   ...   ...    ...   \n",
       "80031  2010-11-21        43.1  -79.050000 2010-09-08  2200  2010      9   \n",
       "80052  2012-09-24     40.9867  -75.195000 2012-09-08   200  2012      9   \n",
       "80057  2012-09-24     48.2561 -109.787500 2012-09-08  1630  2012      9   \n",
       "80128  1999-10-02       41.31 -122.309444 1999-09-09  2200  1999      9   \n",
       "80302  2012-09-24     35.7211  -77.915833 2012-09-09  2000  2012      9   \n",
       "\n",
       "       weekday  \n",
       "68           4  \n",
       "88           6  \n",
       "122          4  \n",
       "123          4  \n",
       "165          2  \n",
       "...        ...  \n",
       "80031        2  \n",
       "80052        5  \n",
       "80057        5  \n",
       "80128        3  \n",
       "80302        6  \n",
       "\n",
       "[1450 rows x 15 columns]"
      ]
     },
     "execution_count": 34,
     "metadata": {},
     "output_type": "execute_result"
    }
   ],
   "source": [
    "# Try to find outliers... \n",
    "#  If we look at all sightings over 1 hour (3600 seconds) we have 3201 rows, almost 4% of our entries,  \n",
    "#    and some comments do say the appereance lasted around an hour... so maybe these are the long cases. \n",
    "#df[df['duration_seconds'] >= 3201]\n",
    "\n",
    "#  Let's reduce our filter to sightings lasting more than 1 week (604800 seconds), we have 69 rows, pretty low,\n",
    "#    we could drop but I'm convinced most of the entries with really long durations are filing errors.  \n",
    "#df[df['duration_seconds'] >= 604800]\n",
    "\n",
    "#  So let's increase our filter to sightings lasting more than 3 hours (10800 seconds),  #[1 day (86400 seconds)] \n",
    "#    we have 1450 rows, around 2%, dropable.\n",
    "df[df['duration_seconds'] >= 10800]"
   ]
  },
  {
   "cell_type": "code",
   "execution_count": 35,
   "metadata": {},
   "outputs": [
    {
     "data": {
      "text/plain": [
       "(78882, 15)"
      ]
     },
     "execution_count": 35,
     "metadata": {},
     "output_type": "execute_result"
    }
   ],
   "source": [
    "# Drop rows where sighting reportedly lasted more than 1 day\n",
    "df.drop(df[df['duration_seconds'] >= 10800].index, inplace=True)\n",
    "df.reset_index(drop=True, inplace=True)\n",
    "df.shape"
   ]
  },
  {
   "cell_type": "code",
   "execution_count": 36,
   "metadata": {},
   "outputs": [],
   "source": [
    "# Change dtype from float to integer \n",
    "df['duration_seconds'] = df['duration_seconds'].astype(int)"
   ]
  },
  {
   "cell_type": "code",
   "execution_count": 37,
   "metadata": {},
   "outputs": [
    {
     "data": {
      "text/plain": [
       "count    78882.0\n",
       "mean       617.0\n",
       "std       1211.0\n",
       "min          0.0\n",
       "25%         30.0\n",
       "50%        180.0\n",
       "75%        600.0\n",
       "max      10620.0\n",
       "Name: duration_seconds, dtype: float64"
      ]
     },
     "execution_count": 37,
     "metadata": {},
     "output_type": "execute_result"
    }
   ],
   "source": [
    "df['duration_seconds'].describe().round()"
   ]
  },
  {
   "cell_type": "code",
   "execution_count": 38,
   "metadata": {},
   "outputs": [],
   "source": [
    "# Now, given that 50% of sightings last around 3 minutes (180 seconds)\n",
    "#  let's try to bin the column into 3 categories\n",
    "df['duration'] = df['duration_seconds']\n",
    "\n",
    "#0 to 120 sec = brief\n",
    "#120 sec to 5 min = short\n",
    "#5 min to min = medium\n",
    "#1 hour and over = long\n",
    "bins = [0, 120, 420, 3600]\n",
    "names = ['brief', 'short', 'medium', 'long']\n",
    "\n",
    "d = dict(enumerate(names, 1))\n",
    "\n",
    "df['duration'] = np.vectorize(d.get)(np.digitize(df['duration'], bins))"
   ]
  },
  {
   "cell_type": "code",
   "execution_count": 39,
   "metadata": {},
   "outputs": [
    {
     "data": {
      "text/plain": [
       "brief     0.384967\n",
       "short     0.300956\n",
       "medium    0.263913\n",
       "long      0.050164\n",
       "Name: duration, dtype: float64"
      ]
     },
     "execution_count": 39,
     "metadata": {},
     "output_type": "execute_result"
    }
   ],
   "source": [
    "df['duration'].value_counts(normalize=True)"
   ]
  },
  {
   "cell_type": "code",
   "execution_count": 40,
   "metadata": {},
   "outputs": [
    {
     "data": {
      "text/plain": [
       "brief     30367\n",
       "short     23740\n",
       "medium    20818\n",
       "long       3957\n",
       "Name: duration, dtype: int64"
      ]
     },
     "execution_count": 40,
     "metadata": {},
     "output_type": "execute_result"
    }
   ],
   "source": [
    "df['duration'].value_counts()"
   ]
  },
  {
   "cell_type": "code",
   "execution_count": 41,
   "metadata": {
    "scrolled": true
   },
   "outputs": [],
   "source": [
    "# Encode\n",
    "#df['duration'] = df['duration'].astype('category')\n",
    "#df['duration'] = df['duration'].cat.codes\n",
    "#df['duration'].value_counts()"
   ]
  },
  {
   "cell_type": "code",
   "execution_count": 42,
   "metadata": {},
   "outputs": [],
   "source": [
    "#brief     =   0\n",
    "#long      =   1\n",
    "#momentary =   2\n",
    "#short     =   3"
   ]
  },
  {
   "cell_type": "markdown",
   "metadata": {},
   "source": [
    "***"
   ]
  },
  {
   "cell_type": "markdown",
   "metadata": {},
   "source": [
    "[drop] **Duration in hours/min**"
   ]
  },
  {
   "cell_type": "code",
   "execution_count": 43,
   "metadata": {},
   "outputs": [],
   "source": [
    "df.drop(['duration (hours/min)'], axis=1, inplace=True)"
   ]
  },
  {
   "cell_type": "markdown",
   "metadata": {},
   "source": [
    "***"
   ]
  },
  {
   "cell_type": "markdown",
   "metadata": {},
   "source": [
    "**City**"
   ]
  },
  {
   "cell_type": "code",
   "execution_count": 44,
   "metadata": {},
   "outputs": [
    {
     "data": {
      "text/plain": [
       "0"
      ]
     },
     "execution_count": 44,
     "metadata": {},
     "output_type": "execute_result"
    }
   ],
   "source": [
    "# Check for missing values\n",
    "df.city.isnull().sum()"
   ]
  },
  {
   "cell_type": "code",
   "execution_count": 45,
   "metadata": {},
   "outputs": [
    {
     "data": {
      "text/plain": [
       "19601"
      ]
     },
     "execution_count": 45,
     "metadata": {},
     "output_type": "execute_result"
    }
   ],
   "source": [
    "# No null values, but probably too many unique values\n",
    "df.city.nunique()"
   ]
  },
  {
   "cell_type": "markdown",
   "metadata": {},
   "source": [
    "**State**"
   ]
  },
  {
   "cell_type": "code",
   "execution_count": 46,
   "metadata": {},
   "outputs": [
    {
     "data": {
      "text/plain": [
       "5677"
      ]
     },
     "execution_count": 46,
     "metadata": {},
     "output_type": "execute_result"
    }
   ],
   "source": [
    "# Since this is a column for American states, the null values correspond to other countries\n",
    "df.state.isnull().sum()"
   ]
  },
  {
   "cell_type": "code",
   "execution_count": 47,
   "metadata": {},
   "outputs": [
    {
     "data": {
      "text/plain": [
       "67"
      ]
     },
     "execution_count": 47,
     "metadata": {},
     "output_type": "execute_result"
    }
   ],
   "source": [
    "df.state.nunique()"
   ]
  },
  {
   "cell_type": "markdown",
   "metadata": {},
   "source": [
    "**Country**"
   ]
  },
  {
   "cell_type": "code",
   "execution_count": 48,
   "metadata": {},
   "outputs": [
    {
     "data": {
      "text/plain": [
       "9444"
      ]
     },
     "execution_count": 48,
     "metadata": {},
     "output_type": "execute_result"
    }
   ],
   "source": [
    "# Check for missing values\n",
    "df.country.isnull().sum()"
   ]
  },
  {
   "cell_type": "code",
   "execution_count": 49,
   "metadata": {},
   "outputs": [
    {
     "data": {
      "text/plain": [
       "5"
      ]
     },
     "execution_count": 49,
     "metadata": {},
     "output_type": "execute_result"
    }
   ],
   "source": [
    "# Check the unique values\n",
    "df.country.nunique()"
   ]
  },
  {
   "cell_type": "code",
   "execution_count": 50,
   "metadata": {},
   "outputs": [],
   "source": [
    "# Not only is there a lot of missing values, some are also really sketchy or probably uncorrectly filed.\n",
    "#  I tried to clean the columns (extra lines of code below) but I decided to try another method..."
   ]
  },
  {
   "cell_type": "code",
   "execution_count": 51,
   "metadata": {},
   "outputs": [],
   "source": [
    "#  So let's drop these columns.\n",
    "df.drop(['city','state','country'], axis=1, inplace=True)"
   ]
  },
  {
   "cell_type": "code",
   "execution_count": 52,
   "metadata": {
    "scrolled": true
   },
   "outputs": [],
   "source": [
    "# Merge state and country\n",
    "#df['location'] = df.state.fillna(' ') + \"/\" + df.country.fillna(' ')\n",
    "##df['location'] = df[['country', 'state']].apply(lambda x: '/'.join(x), axis = 1)"
   ]
  },
  {
   "cell_type": "code",
   "execution_count": 53,
   "metadata": {},
   "outputs": [],
   "source": [
    "#df.location.isnull().sum()"
   ]
  },
  {
   "cell_type": "code",
   "execution_count": 54,
   "metadata": {},
   "outputs": [],
   "source": [
    "# Clean the new columns\n",
    "#?df['location'] = df['location'].str.strip()\n",
    "#?df[df.location.apply(lambda x: len(x) <= 4)]\n",
    "#?df[df.location == '/']"
   ]
  },
  {
   "cell_type": "code",
   "execution_count": 55,
   "metadata": {},
   "outputs": [],
   "source": [
    "#df.location.value_counts()"
   ]
  },
  {
   "cell_type": "markdown",
   "metadata": {},
   "source": [
    "***"
   ]
  },
  {
   "cell_type": "markdown",
   "metadata": {},
   "source": [
    "**Latitude**"
   ]
  },
  {
   "cell_type": "code",
   "execution_count": 56,
   "metadata": {},
   "outputs": [],
   "source": [
    "# Change the dtype to float\n",
    "df['latitude'] = pd.to_numeric(df['latitude'], errors='coerce')"
   ]
  },
  {
   "cell_type": "code",
   "execution_count": 57,
   "metadata": {},
   "outputs": [
    {
     "data": {
      "text/html": [
       "<div>\n",
       "<style scoped>\n",
       "    .dataframe tbody tr th:only-of-type {\n",
       "        vertical-align: middle;\n",
       "    }\n",
       "\n",
       "    .dataframe tbody tr th {\n",
       "        vertical-align: top;\n",
       "    }\n",
       "\n",
       "    .dataframe thead th {\n",
       "        text-align: right;\n",
       "    }\n",
       "</style>\n",
       "<table border=\"1\" class=\"dataframe\">\n",
       "  <thead>\n",
       "    <tr style=\"text-align: right;\">\n",
       "      <th></th>\n",
       "      <th>shape</th>\n",
       "      <th>duration_seconds</th>\n",
       "      <th>comments</th>\n",
       "      <th>date_posted</th>\n",
       "      <th>latitude</th>\n",
       "      <th>longitude</th>\n",
       "      <th>date</th>\n",
       "      <th>time</th>\n",
       "      <th>year</th>\n",
       "      <th>month</th>\n",
       "      <th>weekday</th>\n",
       "      <th>duration</th>\n",
       "    </tr>\n",
       "  </thead>\n",
       "  <tbody>\n",
       "    <tr>\n",
       "      <td>42995</td>\n",
       "      <td>quadrilateral</td>\n",
       "      <td>180</td>\n",
       "      <td>Huge rectangular object emmitting intense whit...</td>\n",
       "      <td>2012-04-18</td>\n",
       "      <td>NaN</td>\n",
       "      <td>-105.624152</td>\n",
       "      <td>1974-05-22</td>\n",
       "      <td>530</td>\n",
       "      <td>1974</td>\n",
       "      <td>5</td>\n",
       "      <td>2</td>\n",
       "      <td>short</td>\n",
       "    </tr>\n",
       "  </tbody>\n",
       "</table>\n",
       "</div>"
      ],
      "text/plain": [
       "               shape  duration_seconds  \\\n",
       "42995  quadrilateral               180   \n",
       "\n",
       "                                                comments date_posted  \\\n",
       "42995  Huge rectangular object emmitting intense whit...  2012-04-18   \n",
       "\n",
       "       latitude  longitude        date  time  year  month  weekday duration  \n",
       "42995       NaN -105.624152 1974-05-22   530  1974      5        2    short  "
      ]
     },
     "execution_count": 57,
     "metadata": {},
     "output_type": "execute_result"
    }
   ],
   "source": [
    "# Check for null values\n",
    "df[df.latitude.isnull()]"
   ]
  },
  {
   "cell_type": "code",
   "execution_count": 58,
   "metadata": {},
   "outputs": [],
   "source": [
    "# Research and replace the null value\n",
    "df['latitude'].iloc[42995] = 33.1911495"
   ]
  },
  {
   "cell_type": "code",
   "execution_count": 59,
   "metadata": {},
   "outputs": [
    {
     "data": {
      "text/plain": [
       "0"
      ]
     },
     "execution_count": 59,
     "metadata": {},
     "output_type": "execute_result"
    }
   ],
   "source": [
    "# Check again \n",
    "df.latitude.isnull().sum()"
   ]
  },
  {
   "cell_type": "markdown",
   "metadata": {},
   "source": [
    "***"
   ]
  },
  {
   "cell_type": "markdown",
   "metadata": {},
   "source": [
    "**Longitude**"
   ]
  },
  {
   "cell_type": "code",
   "execution_count": 60,
   "metadata": {},
   "outputs": [],
   "source": [
    "# Change name\n",
    "df.rename(columns={'longitude ':'longitude'}, inplace=True)"
   ]
  },
  {
   "cell_type": "code",
   "execution_count": 61,
   "metadata": {},
   "outputs": [
    {
     "data": {
      "text/plain": [
       "0"
      ]
     },
     "execution_count": 61,
     "metadata": {},
     "output_type": "execute_result"
    }
   ],
   "source": [
    "df['longitude'].isnull().sum()"
   ]
  },
  {
   "cell_type": "markdown",
   "metadata": {},
   "source": [
    "***"
   ]
  },
  {
   "cell_type": "markdown",
   "metadata": {},
   "source": [
    "[new] **Location**"
   ]
  },
  {
   "cell_type": "code",
   "execution_count": 62,
   "metadata": {},
   "outputs": [
    {
     "data": {
      "text/plain": [
       "Index(['shape', 'duration_seconds', 'comments', 'date_posted', 'latitude',\n",
       "       'longitude', 'date', 'time', 'year', 'month', 'weekday', 'duration'],\n",
       "      dtype='object')"
      ]
     },
     "execution_count": 62,
     "metadata": {},
     "output_type": "execute_result"
    }
   ],
   "source": [
    "df.columns"
   ]
  },
  {
   "cell_type": "code",
   "execution_count": 63,
   "metadata": {
    "scrolled": true
   },
   "outputs": [
    {
     "data": {
      "text/html": [
       "<div>\n",
       "<style scoped>\n",
       "    .dataframe tbody tr th:only-of-type {\n",
       "        vertical-align: middle;\n",
       "    }\n",
       "\n",
       "    .dataframe tbody tr th {\n",
       "        vertical-align: top;\n",
       "    }\n",
       "\n",
       "    .dataframe thead th {\n",
       "        text-align: right;\n",
       "    }\n",
       "</style>\n",
       "<table border=\"1\" class=\"dataframe\">\n",
       "  <thead>\n",
       "    <tr style=\"text-align: right;\">\n",
       "      <th></th>\n",
       "      <th>shape</th>\n",
       "      <th>duration_seconds</th>\n",
       "      <th>comments</th>\n",
       "      <th>date_posted</th>\n",
       "      <th>latitude</th>\n",
       "      <th>longitude</th>\n",
       "      <th>date</th>\n",
       "      <th>time</th>\n",
       "      <th>year</th>\n",
       "      <th>month</th>\n",
       "      <th>weekday</th>\n",
       "      <th>duration</th>\n",
       "      <th>geometry</th>\n",
       "      <th>index_right</th>\n",
       "      <th>pop_est</th>\n",
       "      <th>continent</th>\n",
       "      <th>name</th>\n",
       "      <th>iso_a3</th>\n",
       "      <th>gdp_md_est</th>\n",
       "    </tr>\n",
       "  </thead>\n",
       "  <tbody>\n",
       "    <tr>\n",
       "      <td>0</td>\n",
       "      <td>circular</td>\n",
       "      <td>2700</td>\n",
       "      <td>This event took place in early fall around 194...</td>\n",
       "      <td>2004-04-27</td>\n",
       "      <td>29.883056</td>\n",
       "      <td>-97.941111</td>\n",
       "      <td>1949-10-10</td>\n",
       "      <td>2030</td>\n",
       "      <td>1949</td>\n",
       "      <td>10</td>\n",
       "      <td>0</td>\n",
       "      <td>medium</td>\n",
       "      <td>POINT (-97.94111 29.88306)</td>\n",
       "      <td>4.0</td>\n",
       "      <td>326625791.0</td>\n",
       "      <td>North America</td>\n",
       "      <td>United States of America</td>\n",
       "      <td>USA</td>\n",
       "      <td>18560000.0</td>\n",
       "    </tr>\n",
       "    <tr>\n",
       "      <td>1</td>\n",
       "      <td>bright</td>\n",
       "      <td>7200</td>\n",
       "      <td>1949 Lackland AFB&amp;#44 TX.  Lights racing acros...</td>\n",
       "      <td>2005-12-16</td>\n",
       "      <td>29.384210</td>\n",
       "      <td>-98.581082</td>\n",
       "      <td>1949-10-10</td>\n",
       "      <td>2100</td>\n",
       "      <td>1949</td>\n",
       "      <td>10</td>\n",
       "      <td>0</td>\n",
       "      <td>long</td>\n",
       "      <td>POINT (-98.58108 29.38421)</td>\n",
       "      <td>4.0</td>\n",
       "      <td>326625791.0</td>\n",
       "      <td>North America</td>\n",
       "      <td>United States of America</td>\n",
       "      <td>USA</td>\n",
       "      <td>18560000.0</td>\n",
       "    </tr>\n",
       "    <tr>\n",
       "      <td>2</td>\n",
       "      <td>circular</td>\n",
       "      <td>20</td>\n",
       "      <td>Green/Orange circular disc over Chester&amp;#44 En...</td>\n",
       "      <td>2008-01-21</td>\n",
       "      <td>53.200000</td>\n",
       "      <td>-2.916667</td>\n",
       "      <td>1955-10-10</td>\n",
       "      <td>1700</td>\n",
       "      <td>1955</td>\n",
       "      <td>10</td>\n",
       "      <td>0</td>\n",
       "      <td>brief</td>\n",
       "      <td>POINT (-2.91667 53.20000)</td>\n",
       "      <td>143.0</td>\n",
       "      <td>64769452.0</td>\n",
       "      <td>Europe</td>\n",
       "      <td>United Kingdom</td>\n",
       "      <td>GBR</td>\n",
       "      <td>2788000.0</td>\n",
       "    </tr>\n",
       "    <tr>\n",
       "      <td>3</td>\n",
       "      <td>circular</td>\n",
       "      <td>20</td>\n",
       "      <td>My older brother and twin sister were leaving ...</td>\n",
       "      <td>2004-01-17</td>\n",
       "      <td>28.978333</td>\n",
       "      <td>-96.645833</td>\n",
       "      <td>1956-10-10</td>\n",
       "      <td>2100</td>\n",
       "      <td>1956</td>\n",
       "      <td>10</td>\n",
       "      <td>2</td>\n",
       "      <td>brief</td>\n",
       "      <td>POINT (-96.64583 28.97833)</td>\n",
       "      <td>4.0</td>\n",
       "      <td>326625791.0</td>\n",
       "      <td>North America</td>\n",
       "      <td>United States of America</td>\n",
       "      <td>USA</td>\n",
       "      <td>18560000.0</td>\n",
       "    </tr>\n",
       "    <tr>\n",
       "      <td>4</td>\n",
       "      <td>bright</td>\n",
       "      <td>900</td>\n",
       "      <td>AS a Marine 1st Lt. flying an FJ4B fighter/att...</td>\n",
       "      <td>2004-01-22</td>\n",
       "      <td>21.418056</td>\n",
       "      <td>-157.803611</td>\n",
       "      <td>1960-10-10</td>\n",
       "      <td>2000</td>\n",
       "      <td>1960</td>\n",
       "      <td>10</td>\n",
       "      <td>0</td>\n",
       "      <td>medium</td>\n",
       "      <td>POINT (-157.80361 21.41806)</td>\n",
       "      <td>4.0</td>\n",
       "      <td>326625791.0</td>\n",
       "      <td>North America</td>\n",
       "      <td>United States of America</td>\n",
       "      <td>USA</td>\n",
       "      <td>18560000.0</td>\n",
       "    </tr>\n",
       "    <tr>\n",
       "      <td>...</td>\n",
       "      <td>...</td>\n",
       "      <td>...</td>\n",
       "      <td>...</td>\n",
       "      <td>...</td>\n",
       "      <td>...</td>\n",
       "      <td>...</td>\n",
       "      <td>...</td>\n",
       "      <td>...</td>\n",
       "      <td>...</td>\n",
       "      <td>...</td>\n",
       "      <td>...</td>\n",
       "      <td>...</td>\n",
       "      <td>...</td>\n",
       "      <td>...</td>\n",
       "      <td>...</td>\n",
       "      <td>...</td>\n",
       "      <td>...</td>\n",
       "      <td>...</td>\n",
       "      <td>...</td>\n",
       "    </tr>\n",
       "    <tr>\n",
       "      <td>78877</td>\n",
       "      <td>bright</td>\n",
       "      <td>600</td>\n",
       "      <td>Round from the distance/slowly changing colors...</td>\n",
       "      <td>2013-09-30</td>\n",
       "      <td>36.165833</td>\n",
       "      <td>-86.784444</td>\n",
       "      <td>2013-09-09</td>\n",
       "      <td>2115</td>\n",
       "      <td>2013</td>\n",
       "      <td>9</td>\n",
       "      <td>0</td>\n",
       "      <td>medium</td>\n",
       "      <td>POINT (-86.78444 36.16583)</td>\n",
       "      <td>4.0</td>\n",
       "      <td>326625791.0</td>\n",
       "      <td>North America</td>\n",
       "      <td>United States of America</td>\n",
       "      <td>USA</td>\n",
       "      <td>18560000.0</td>\n",
       "    </tr>\n",
       "    <tr>\n",
       "      <td>78878</td>\n",
       "      <td>circular</td>\n",
       "      <td>1200</td>\n",
       "      <td>Boise&amp;#44 ID&amp;#44 spherical&amp;#44 20 min&amp;#44 10 r...</td>\n",
       "      <td>2013-09-30</td>\n",
       "      <td>43.613611</td>\n",
       "      <td>-116.202500</td>\n",
       "      <td>2013-09-09</td>\n",
       "      <td>2200</td>\n",
       "      <td>2013</td>\n",
       "      <td>9</td>\n",
       "      <td>0</td>\n",
       "      <td>medium</td>\n",
       "      <td>POINT (-116.20250 43.61361)</td>\n",
       "      <td>4.0</td>\n",
       "      <td>326625791.0</td>\n",
       "      <td>North America</td>\n",
       "      <td>United States of America</td>\n",
       "      <td>USA</td>\n",
       "      <td>18560000.0</td>\n",
       "    </tr>\n",
       "    <tr>\n",
       "      <td>78879</td>\n",
       "      <td>complicated</td>\n",
       "      <td>1200</td>\n",
       "      <td>Napa UFO&amp;#44</td>\n",
       "      <td>2013-09-30</td>\n",
       "      <td>38.297222</td>\n",
       "      <td>-122.284444</td>\n",
       "      <td>2013-09-09</td>\n",
       "      <td>2200</td>\n",
       "      <td>2013</td>\n",
       "      <td>9</td>\n",
       "      <td>0</td>\n",
       "      <td>medium</td>\n",
       "      <td>POINT (-122.28444 38.29722)</td>\n",
       "      <td>4.0</td>\n",
       "      <td>326625791.0</td>\n",
       "      <td>North America</td>\n",
       "      <td>United States of America</td>\n",
       "      <td>USA</td>\n",
       "      <td>18560000.0</td>\n",
       "    </tr>\n",
       "    <tr>\n",
       "      <td>78880</td>\n",
       "      <td>circular</td>\n",
       "      <td>5</td>\n",
       "      <td>Saw a five gold lit cicular craft moving fastl...</td>\n",
       "      <td>2013-09-30</td>\n",
       "      <td>38.901111</td>\n",
       "      <td>-77.265556</td>\n",
       "      <td>2013-09-09</td>\n",
       "      <td>2220</td>\n",
       "      <td>2013</td>\n",
       "      <td>9</td>\n",
       "      <td>0</td>\n",
       "      <td>brief</td>\n",
       "      <td>POINT (-77.26556 38.90111)</td>\n",
       "      <td>4.0</td>\n",
       "      <td>326625791.0</td>\n",
       "      <td>North America</td>\n",
       "      <td>United States of America</td>\n",
       "      <td>USA</td>\n",
       "      <td>18560000.0</td>\n",
       "    </tr>\n",
       "    <tr>\n",
       "      <td>78881</td>\n",
       "      <td>circular</td>\n",
       "      <td>1020</td>\n",
       "      <td>2 witnesses 2  miles apart&amp;#44 Red &amp;amp; White...</td>\n",
       "      <td>2013-09-30</td>\n",
       "      <td>35.652778</td>\n",
       "      <td>-97.477778</td>\n",
       "      <td>2013-09-09</td>\n",
       "      <td>2300</td>\n",
       "      <td>2013</td>\n",
       "      <td>9</td>\n",
       "      <td>0</td>\n",
       "      <td>medium</td>\n",
       "      <td>POINT (-97.47778 35.65278)</td>\n",
       "      <td>4.0</td>\n",
       "      <td>326625791.0</td>\n",
       "      <td>North America</td>\n",
       "      <td>United States of America</td>\n",
       "      <td>USA</td>\n",
       "      <td>18560000.0</td>\n",
       "    </tr>\n",
       "  </tbody>\n",
       "</table>\n",
       "<p>78882 rows × 19 columns</p>\n",
       "</div>"
      ],
      "text/plain": [
       "             shape  duration_seconds  \\\n",
       "0         circular              2700   \n",
       "1           bright              7200   \n",
       "2         circular                20   \n",
       "3         circular                20   \n",
       "4           bright               900   \n",
       "...            ...               ...   \n",
       "78877       bright               600   \n",
       "78878     circular              1200   \n",
       "78879  complicated              1200   \n",
       "78880     circular                 5   \n",
       "78881     circular              1020   \n",
       "\n",
       "                                                comments date_posted  \\\n",
       "0      This event took place in early fall around 194...  2004-04-27   \n",
       "1      1949 Lackland AFB&#44 TX.  Lights racing acros...  2005-12-16   \n",
       "2      Green/Orange circular disc over Chester&#44 En...  2008-01-21   \n",
       "3      My older brother and twin sister were leaving ...  2004-01-17   \n",
       "4      AS a Marine 1st Lt. flying an FJ4B fighter/att...  2004-01-22   \n",
       "...                                                  ...         ...   \n",
       "78877  Round from the distance/slowly changing colors...  2013-09-30   \n",
       "78878  Boise&#44 ID&#44 spherical&#44 20 min&#44 10 r...  2013-09-30   \n",
       "78879                                       Napa UFO&#44  2013-09-30   \n",
       "78880  Saw a five gold lit cicular craft moving fastl...  2013-09-30   \n",
       "78881  2 witnesses 2  miles apart&#44 Red &amp; White...  2013-09-30   \n",
       "\n",
       "        latitude   longitude       date  time  year  month  weekday duration  \\\n",
       "0      29.883056  -97.941111 1949-10-10  2030  1949     10        0   medium   \n",
       "1      29.384210  -98.581082 1949-10-10  2100  1949     10        0     long   \n",
       "2      53.200000   -2.916667 1955-10-10  1700  1955     10        0    brief   \n",
       "3      28.978333  -96.645833 1956-10-10  2100  1956     10        2    brief   \n",
       "4      21.418056 -157.803611 1960-10-10  2000  1960     10        0   medium   \n",
       "...          ...         ...        ...   ...   ...    ...      ...      ...   \n",
       "78877  36.165833  -86.784444 2013-09-09  2115  2013      9        0   medium   \n",
       "78878  43.613611 -116.202500 2013-09-09  2200  2013      9        0   medium   \n",
       "78879  38.297222 -122.284444 2013-09-09  2200  2013      9        0   medium   \n",
       "78880  38.901111  -77.265556 2013-09-09  2220  2013      9        0    brief   \n",
       "78881  35.652778  -97.477778 2013-09-09  2300  2013      9        0   medium   \n",
       "\n",
       "                          geometry  index_right      pop_est      continent  \\\n",
       "0       POINT (-97.94111 29.88306)          4.0  326625791.0  North America   \n",
       "1       POINT (-98.58108 29.38421)          4.0  326625791.0  North America   \n",
       "2        POINT (-2.91667 53.20000)        143.0   64769452.0         Europe   \n",
       "3       POINT (-96.64583 28.97833)          4.0  326625791.0  North America   \n",
       "4      POINT (-157.80361 21.41806)          4.0  326625791.0  North America   \n",
       "...                            ...          ...          ...            ...   \n",
       "78877   POINT (-86.78444 36.16583)          4.0  326625791.0  North America   \n",
       "78878  POINT (-116.20250 43.61361)          4.0  326625791.0  North America   \n",
       "78879  POINT (-122.28444 38.29722)          4.0  326625791.0  North America   \n",
       "78880   POINT (-77.26556 38.90111)          4.0  326625791.0  North America   \n",
       "78881   POINT (-97.47778 35.65278)          4.0  326625791.0  North America   \n",
       "\n",
       "                           name iso_a3  gdp_md_est  \n",
       "0      United States of America    USA  18560000.0  \n",
       "1      United States of America    USA  18560000.0  \n",
       "2                United Kingdom    GBR   2788000.0  \n",
       "3      United States of America    USA  18560000.0  \n",
       "4      United States of America    USA  18560000.0  \n",
       "...                         ...    ...         ...  \n",
       "78877  United States of America    USA  18560000.0  \n",
       "78878  United States of America    USA  18560000.0  \n",
       "78879  United States of America    USA  18560000.0  \n",
       "78880  United States of America    USA  18560000.0  \n",
       "78881  United States of America    USA  18560000.0  \n",
       "\n",
       "[78882 rows x 19 columns]"
      ]
     },
     "execution_count": 63,
     "metadata": {},
     "output_type": "execute_result"
    }
   ],
   "source": [
    "# Let's try to use the Latitude and Longitude to get clean information about the countires \n",
    "#  using GeoPandas\n",
    "world = gpd.read_file(gpd.datasets.get_path('naturalearth_lowres'))\n",
    "gdf = gpd.GeoDataFrame(df, geometry=gpd.points_from_xy(df.longitude,df.latitude))\n",
    "df2 = gpd.sjoin(gdf, world, how='left', op='within')\n",
    "df2"
   ]
  },
  {
   "cell_type": "code",
   "execution_count": 64,
   "metadata": {},
   "outputs": [
    {
     "data": {
      "text/plain": [
       "shape                  0\n",
       "duration_seconds       0\n",
       "comments              15\n",
       "date_posted            0\n",
       "latitude               0\n",
       "longitude              0\n",
       "date                   0\n",
       "time                   0\n",
       "year                   0\n",
       "month                  0\n",
       "weekday                0\n",
       "duration               0\n",
       "geometry               0\n",
       "index_right         2254\n",
       "pop_est             2254\n",
       "continent           2254\n",
       "name                2254\n",
       "iso_a3              2254\n",
       "gdp_md_est          2254\n",
       "dtype: int64"
      ]
     },
     "execution_count": 64,
     "metadata": {},
     "output_type": "execute_result"
    }
   ],
   "source": [
    "# Unfortunatly, for some reason, we have some new missing values, \n",
    "#  but A LOT LESS than df origianlly had in country (9630)\n",
    "df2.isnull().sum()"
   ]
  },
  {
   "cell_type": "code",
   "execution_count": 65,
   "metadata": {
    "scrolled": true
   },
   "outputs": [
    {
     "data": {
      "text/plain": [
       "(76628, 19)"
      ]
     },
     "execution_count": 65,
     "metadata": {},
     "output_type": "execute_result"
    }
   ],
   "source": [
    "# Drop the rows with missing values\n",
    "df2.dropna(subset=['index_right'], inplace=True)\n",
    "df2.reset_index(drop=True, inplace=True)\n",
    "df2.shape"
   ]
  },
  {
   "cell_type": "code",
   "execution_count": 66,
   "metadata": {},
   "outputs": [
    {
     "data": {
      "text/plain": [
       "shape                0\n",
       "duration_seconds     0\n",
       "comments            14\n",
       "date_posted          0\n",
       "latitude             0\n",
       "longitude            0\n",
       "date                 0\n",
       "time                 0\n",
       "year                 0\n",
       "month                0\n",
       "weekday              0\n",
       "duration             0\n",
       "geometry             0\n",
       "index_right          0\n",
       "pop_est              0\n",
       "continent            0\n",
       "name                 0\n",
       "iso_a3               0\n",
       "gdp_md_est           0\n",
       "dtype: int64"
      ]
     },
     "execution_count": 66,
     "metadata": {},
     "output_type": "execute_result"
    }
   ],
   "source": [
    "# Check again\n",
    "df2.isnull().sum()"
   ]
  },
  {
   "cell_type": "code",
   "execution_count": 67,
   "metadata": {},
   "outputs": [
    {
     "data": {
      "text/plain": [
       "array(['USA', 'GBR', 'CAN', 'NZL', 'RUS', 'AUS', 'LTU', '-99', 'ISL',\n",
       "       'PRI', 'MEX', 'AUT', 'JPN', 'VNM', 'TUR', 'CHN', 'GRC', 'IRQ',\n",
       "       'MYS', 'ARM', 'CHL', 'IDN', 'IND', 'HUN', 'DEU', 'PHL', 'VEN',\n",
       "       'PAK', 'IRN', 'AFG', 'MAR', 'TWN', 'SAU', 'SWZ', 'HRV', 'COL',\n",
       "       'PSE', 'EGY', 'POL', 'SRB', 'ZAF', 'PAN', 'BEL', 'KOR', 'HND',\n",
       "       'SWE', 'ITA', 'NLD', 'IRL', 'DOM', 'MKD', 'ARG', 'NAM', 'BGD',\n",
       "       'JAM', 'SYR', 'ARE', 'THA', 'GRL', 'KWT', 'ROU', 'ESP', 'UKR',\n",
       "       'BGR', 'SVK', 'TUN', 'DZA', 'TTO', 'FIN', 'LBN', 'LBY', 'LKA',\n",
       "       'ISR', 'CRI', 'BIH', 'LVA', 'SUR', 'UZB', 'GHA', 'BRA', 'NPL',\n",
       "       'BOL', 'PRT', 'CYP', 'JOR', 'MMR', 'SVN', 'DNK', 'LUX', 'BRN',\n",
       "       'CUB', 'ZWE', 'AZE', 'FJI', 'PRY', 'EST', 'OMN', 'LSO', 'NGA',\n",
       "       'CHE', 'GUY', 'PER', 'BLR', 'GTM', 'CZE', 'KGZ', 'BLZ', 'ECU',\n",
       "       'KEN', 'SLV', 'TZA', 'ZMB', 'KHM', 'ETH', 'CMR', 'TLS', 'ALB',\n",
       "       'SEN', 'BWA', 'URY', 'ATA', 'GEO', 'UGA', 'QAT', 'BHS', 'KAZ',\n",
       "       'COD', 'MNG', 'LAO'], dtype=object)"
      ]
     },
     "execution_count": 67,
     "metadata": {},
     "output_type": "execute_result"
    }
   ],
   "source": [
    "# Check the unique values\n",
    "df2.iso_a3.unique()"
   ]
  },
  {
   "cell_type": "code",
   "execution_count": 68,
   "metadata": {
    "scrolled": true
   },
   "outputs": [
    {
     "data": {
      "text/html": [
       "<div>\n",
       "<style scoped>\n",
       "    .dataframe tbody tr th:only-of-type {\n",
       "        vertical-align: middle;\n",
       "    }\n",
       "\n",
       "    .dataframe tbody tr th {\n",
       "        vertical-align: top;\n",
       "    }\n",
       "\n",
       "    .dataframe thead th {\n",
       "        text-align: right;\n",
       "    }\n",
       "</style>\n",
       "<table border=\"1\" class=\"dataframe\">\n",
       "  <thead>\n",
       "    <tr style=\"text-align: right;\">\n",
       "      <th></th>\n",
       "      <th>shape</th>\n",
       "      <th>duration_seconds</th>\n",
       "      <th>comments</th>\n",
       "      <th>date_posted</th>\n",
       "      <th>latitude</th>\n",
       "      <th>longitude</th>\n",
       "      <th>date</th>\n",
       "      <th>time</th>\n",
       "      <th>year</th>\n",
       "      <th>month</th>\n",
       "      <th>weekday</th>\n",
       "      <th>duration</th>\n",
       "      <th>geometry</th>\n",
       "      <th>index_right</th>\n",
       "      <th>pop_est</th>\n",
       "      <th>continent</th>\n",
       "      <th>name</th>\n",
       "      <th>iso_a3</th>\n",
       "      <th>gdp_md_est</th>\n",
       "    </tr>\n",
       "  </thead>\n",
       "  <tbody>\n",
       "    <tr>\n",
       "      <td>173</td>\n",
       "      <td>bright</td>\n",
       "      <td>600</td>\n",
       "      <td>Thise could be an ETV case&amp;#44 but it could al...</td>\n",
       "      <td>2008-01-21</td>\n",
       "      <td>59.900209</td>\n",
       "      <td>5.282347</td>\n",
       "      <td>2007-10-10</td>\n",
       "      <td>2320</td>\n",
       "      <td>2007</td>\n",
       "      <td>10</td>\n",
       "      <td>2</td>\n",
       "      <td>medium</td>\n",
       "      <td>POINT (5.28235 59.90021)</td>\n",
       "      <td>21.0</td>\n",
       "      <td>5320045.0</td>\n",
       "      <td>Europe</td>\n",
       "      <td>Norway</td>\n",
       "      <td>-99</td>\n",
       "      <td>364700.0</td>\n",
       "    </tr>\n",
       "    <tr>\n",
       "      <td>887</td>\n",
       "      <td>circular</td>\n",
       "      <td>180</td>\n",
       "      <td>Huge grey cylinder rotating going down to my h...</td>\n",
       "      <td>2011-12-12</td>\n",
       "      <td>48.945484</td>\n",
       "      <td>2.037356</td>\n",
       "      <td>2011-10-01</td>\n",
       "      <td>1700</td>\n",
       "      <td>2011</td>\n",
       "      <td>10</td>\n",
       "      <td>5</td>\n",
       "      <td>short</td>\n",
       "      <td>POINT (2.03736 48.94548)</td>\n",
       "      <td>43.0</td>\n",
       "      <td>67106161.0</td>\n",
       "      <td>Europe</td>\n",
       "      <td>France</td>\n",
       "      <td>-99</td>\n",
       "      <td>2699000.0</td>\n",
       "    </tr>\n",
       "    <tr>\n",
       "      <td>994</td>\n",
       "      <td>complicated</td>\n",
       "      <td>2</td>\n",
       "      <td>The craft was too dark&amp;#44 but behind i have s...</td>\n",
       "      <td>2001-10-12</td>\n",
       "      <td>48.097456</td>\n",
       "      <td>-0.349277</td>\n",
       "      <td>2001-10-12</td>\n",
       "      <td>1940</td>\n",
       "      <td>2001</td>\n",
       "      <td>10</td>\n",
       "      <td>4</td>\n",
       "      <td>brief</td>\n",
       "      <td>POINT (-0.34928 48.09746)</td>\n",
       "      <td>43.0</td>\n",
       "      <td>67106161.0</td>\n",
       "      <td>Europe</td>\n",
       "      <td>France</td>\n",
       "      <td>-99</td>\n",
       "      <td>2699000.0</td>\n",
       "    </tr>\n",
       "    <tr>\n",
       "      <td>1026</td>\n",
       "      <td>circular</td>\n",
       "      <td>2700</td>\n",
       "      <td>Round sphere off the coast of southern France.</td>\n",
       "      <td>2013-05-15</td>\n",
       "      <td>43.580418</td>\n",
       "      <td>7.125102</td>\n",
       "      <td>2004-10-12</td>\n",
       "      <td>1500</td>\n",
       "      <td>2004</td>\n",
       "      <td>10</td>\n",
       "      <td>1</td>\n",
       "      <td>medium</td>\n",
       "      <td>POINT (7.12510 43.58042)</td>\n",
       "      <td>43.0</td>\n",
       "      <td>67106161.0</td>\n",
       "      <td>Europe</td>\n",
       "      <td>France</td>\n",
       "      <td>-99</td>\n",
       "      <td>2699000.0</td>\n",
       "    </tr>\n",
       "    <tr>\n",
       "      <td>1811</td>\n",
       "      <td>unspecified</td>\n",
       "      <td>120</td>\n",
       "      <td>Two red lights in the sky</td>\n",
       "      <td>2002-10-28</td>\n",
       "      <td>48.834913</td>\n",
       "      <td>2.523649</td>\n",
       "      <td>1994-10-15</td>\n",
       "      <td>2200</td>\n",
       "      <td>1994</td>\n",
       "      <td>10</td>\n",
       "      <td>5</td>\n",
       "      <td>short</td>\n",
       "      <td>POINT (2.52365 48.83491)</td>\n",
       "      <td>43.0</td>\n",
       "      <td>67106161.0</td>\n",
       "      <td>Europe</td>\n",
       "      <td>France</td>\n",
       "      <td>-99</td>\n",
       "      <td>2699000.0</td>\n",
       "    </tr>\n",
       "    <tr>\n",
       "      <td>...</td>\n",
       "      <td>...</td>\n",
       "      <td>...</td>\n",
       "      <td>...</td>\n",
       "      <td>...</td>\n",
       "      <td>...</td>\n",
       "      <td>...</td>\n",
       "      <td>...</td>\n",
       "      <td>...</td>\n",
       "      <td>...</td>\n",
       "      <td>...</td>\n",
       "      <td>...</td>\n",
       "      <td>...</td>\n",
       "      <td>...</td>\n",
       "      <td>...</td>\n",
       "      <td>...</td>\n",
       "      <td>...</td>\n",
       "      <td>...</td>\n",
       "      <td>...</td>\n",
       "      <td>...</td>\n",
       "    </tr>\n",
       "    <tr>\n",
       "      <td>74014</td>\n",
       "      <td>quadrilateral</td>\n",
       "      <td>1320</td>\n",
       "      <td>Black little square floating in the sky&amp;#44 No...</td>\n",
       "      <td>2006-05-15</td>\n",
       "      <td>50.665802</td>\n",
       "      <td>3.210788</td>\n",
       "      <td>2005-09-25</td>\n",
       "      <td>1941</td>\n",
       "      <td>2005</td>\n",
       "      <td>9</td>\n",
       "      <td>6</td>\n",
       "      <td>medium</td>\n",
       "      <td>POINT (3.21079 50.66580)</td>\n",
       "      <td>43.0</td>\n",
       "      <td>67106161.0</td>\n",
       "      <td>Europe</td>\n",
       "      <td>France</td>\n",
       "      <td>-99</td>\n",
       "      <td>2699000.0</td>\n",
       "    </tr>\n",
       "    <tr>\n",
       "      <td>74057</td>\n",
       "      <td>complicated</td>\n",
       "      <td>10</td>\n",
       "      <td>the looking like afterburning lights moved ste...</td>\n",
       "      <td>2008-10-31</td>\n",
       "      <td>44.758106</td>\n",
       "      <td>4.598572</td>\n",
       "      <td>2008-09-25</td>\n",
       "      <td>2315</td>\n",
       "      <td>2008</td>\n",
       "      <td>9</td>\n",
       "      <td>3</td>\n",
       "      <td>brief</td>\n",
       "      <td>POINT (4.59857 44.75811)</td>\n",
       "      <td>43.0</td>\n",
       "      <td>67106161.0</td>\n",
       "      <td>Europe</td>\n",
       "      <td>France</td>\n",
       "      <td>-99</td>\n",
       "      <td>2699000.0</td>\n",
       "    </tr>\n",
       "    <tr>\n",
       "      <td>75234</td>\n",
       "      <td>quadrilateral</td>\n",
       "      <td>2</td>\n",
       "      <td>Threre was a C30 military transport fly at 200...</td>\n",
       "      <td>2002-09-13</td>\n",
       "      <td>48.117266</td>\n",
       "      <td>-1.677793</td>\n",
       "      <td>2002-09-03</td>\n",
       "      <td>1200</td>\n",
       "      <td>2002</td>\n",
       "      <td>9</td>\n",
       "      <td>1</td>\n",
       "      <td>brief</td>\n",
       "      <td>POINT (-1.67779 48.11727)</td>\n",
       "      <td>43.0</td>\n",
       "      <td>67106161.0</td>\n",
       "      <td>Europe</td>\n",
       "      <td>France</td>\n",
       "      <td>-99</td>\n",
       "      <td>2699000.0</td>\n",
       "    </tr>\n",
       "    <tr>\n",
       "      <td>75765</td>\n",
       "      <td>circular</td>\n",
       "      <td>1800</td>\n",
       "      <td>bright white light movement</td>\n",
       "      <td>2011-10-10</td>\n",
       "      <td>48.253243</td>\n",
       "      <td>-3.825407</td>\n",
       "      <td>2011-09-05</td>\n",
       "      <td>10</td>\n",
       "      <td>2011</td>\n",
       "      <td>9</td>\n",
       "      <td>0</td>\n",
       "      <td>medium</td>\n",
       "      <td>POINT (-3.82541 48.25324)</td>\n",
       "      <td>43.0</td>\n",
       "      <td>67106161.0</td>\n",
       "      <td>Europe</td>\n",
       "      <td>France</td>\n",
       "      <td>-99</td>\n",
       "      <td>2699000.0</td>\n",
       "    </tr>\n",
       "    <tr>\n",
       "      <td>76277</td>\n",
       "      <td>triangular</td>\n",
       "      <td>5</td>\n",
       "      <td>Low and slowflying triangle.</td>\n",
       "      <td>2005-10-11</td>\n",
       "      <td>58.735793</td>\n",
       "      <td>5.647735</td>\n",
       "      <td>2005-09-08</td>\n",
       "      <td>2230</td>\n",
       "      <td>2005</td>\n",
       "      <td>9</td>\n",
       "      <td>3</td>\n",
       "      <td>brief</td>\n",
       "      <td>POINT (5.64773 58.73579)</td>\n",
       "      <td>21.0</td>\n",
       "      <td>5320045.0</td>\n",
       "      <td>Europe</td>\n",
       "      <td>Norway</td>\n",
       "      <td>-99</td>\n",
       "      <td>364700.0</td>\n",
       "    </tr>\n",
       "  </tbody>\n",
       "</table>\n",
       "<p>111 rows × 19 columns</p>\n",
       "</div>"
      ],
      "text/plain": [
       "               shape  duration_seconds  \\\n",
       "173           bright               600   \n",
       "887         circular               180   \n",
       "994      complicated                 2   \n",
       "1026        circular              2700   \n",
       "1811     unspecified               120   \n",
       "...              ...               ...   \n",
       "74014  quadrilateral              1320   \n",
       "74057    complicated                10   \n",
       "75234  quadrilateral                 2   \n",
       "75765       circular              1800   \n",
       "76277     triangular                 5   \n",
       "\n",
       "                                                comments date_posted  \\\n",
       "173    Thise could be an ETV case&#44 but it could al...  2008-01-21   \n",
       "887    Huge grey cylinder rotating going down to my h...  2011-12-12   \n",
       "994    The craft was too dark&#44 but behind i have s...  2001-10-12   \n",
       "1026      Round sphere off the coast of southern France.  2013-05-15   \n",
       "1811                           Two red lights in the sky  2002-10-28   \n",
       "...                                                  ...         ...   \n",
       "74014  Black little square floating in the sky&#44 No...  2006-05-15   \n",
       "74057  the looking like afterburning lights moved ste...  2008-10-31   \n",
       "75234  Threre was a C30 military transport fly at 200...  2002-09-13   \n",
       "75765                        bright white light movement  2011-10-10   \n",
       "76277                       Low and slowflying triangle.  2005-10-11   \n",
       "\n",
       "        latitude  longitude       date  time  year  month  weekday duration  \\\n",
       "173    59.900209   5.282347 2007-10-10  2320  2007     10        2   medium   \n",
       "887    48.945484   2.037356 2011-10-01  1700  2011     10        5    short   \n",
       "994    48.097456  -0.349277 2001-10-12  1940  2001     10        4    brief   \n",
       "1026   43.580418   7.125102 2004-10-12  1500  2004     10        1   medium   \n",
       "1811   48.834913   2.523649 1994-10-15  2200  1994     10        5    short   \n",
       "...          ...        ...        ...   ...   ...    ...      ...      ...   \n",
       "74014  50.665802   3.210788 2005-09-25  1941  2005      9        6   medium   \n",
       "74057  44.758106   4.598572 2008-09-25  2315  2008      9        3    brief   \n",
       "75234  48.117266  -1.677793 2002-09-03  1200  2002      9        1    brief   \n",
       "75765  48.253243  -3.825407 2011-09-05    10  2011      9        0   medium   \n",
       "76277  58.735793   5.647735 2005-09-08  2230  2005      9        3    brief   \n",
       "\n",
       "                        geometry  index_right     pop_est continent    name  \\\n",
       "173     POINT (5.28235 59.90021)         21.0   5320045.0    Europe  Norway   \n",
       "887     POINT (2.03736 48.94548)         43.0  67106161.0    Europe  France   \n",
       "994    POINT (-0.34928 48.09746)         43.0  67106161.0    Europe  France   \n",
       "1026    POINT (7.12510 43.58042)         43.0  67106161.0    Europe  France   \n",
       "1811    POINT (2.52365 48.83491)         43.0  67106161.0    Europe  France   \n",
       "...                          ...          ...         ...       ...     ...   \n",
       "74014   POINT (3.21079 50.66580)         43.0  67106161.0    Europe  France   \n",
       "74057   POINT (4.59857 44.75811)         43.0  67106161.0    Europe  France   \n",
       "75234  POINT (-1.67779 48.11727)         43.0  67106161.0    Europe  France   \n",
       "75765  POINT (-3.82541 48.25324)         43.0  67106161.0    Europe  France   \n",
       "76277   POINT (5.64773 58.73579)         21.0   5320045.0    Europe  Norway   \n",
       "\n",
       "      iso_a3  gdp_md_est  \n",
       "173      -99    364700.0  \n",
       "887      -99   2699000.0  \n",
       "994      -99   2699000.0  \n",
       "1026     -99   2699000.0  \n",
       "1811     -99   2699000.0  \n",
       "...      ...         ...  \n",
       "74014    -99   2699000.0  \n",
       "74057    -99   2699000.0  \n",
       "75234    -99   2699000.0  \n",
       "75765    -99   2699000.0  \n",
       "76277    -99    364700.0  \n",
       "\n",
       "[111 rows x 19 columns]"
      ]
     },
     "execution_count": 68,
     "metadata": {},
     "output_type": "execute_result"
    }
   ],
   "source": [
    "# Fix '-99'\n",
    "df2[df2.iso_a3 == '-99']"
   ]
  },
  {
   "cell_type": "code",
   "execution_count": 69,
   "metadata": {},
   "outputs": [],
   "source": [
    "# France and Norway have '-99' as their code, change to FRA and NOR\n",
    "df2.loc[df2.name == 'France', 'iso_a3'] = 'FRA'\n",
    "df2.loc[df2.name == 'Norway', 'iso_a3'] = 'NOR'"
   ]
  },
  {
   "cell_type": "code",
   "execution_count": 70,
   "metadata": {},
   "outputs": [],
   "source": [
    "# N. Cyprus and Kosovo also have '-99' as their code, change to CYP and RKS\n",
    "df2.loc[df2.name == 'N. Cyprus', 'iso_a3'] = 'CYP'\n",
    "df2.loc[df2.name == 'Kosovo', 'iso_a3'] = 'RKS'"
   ]
  },
  {
   "cell_type": "code",
   "execution_count": 71,
   "metadata": {},
   "outputs": [
    {
     "data": {
      "text/plain": [
       "0"
      ]
     },
     "execution_count": 71,
     "metadata": {},
     "output_type": "execute_result"
    }
   ],
   "source": [
    "df2.iso_a3.isnull().sum()"
   ]
  },
  {
   "cell_type": "code",
   "execution_count": 72,
   "metadata": {},
   "outputs": [
    {
     "data": {
      "text/plain": [
       "array(['North America', 'Europe', 'Oceania', 'Asia', 'South America',\n",
       "       'Africa', 'Antarctica'], dtype=object)"
      ]
     },
     "execution_count": 72,
     "metadata": {},
     "output_type": "execute_result"
    }
   ],
   "source": [
    "df2.continent.unique()"
   ]
  },
  {
   "cell_type": "code",
   "execution_count": 73,
   "metadata": {
    "scrolled": true
   },
   "outputs": [
    {
     "data": {
      "text/plain": [
       "array(['United States of America', 'United Kingdom', 'Canada',\n",
       "       'New Zealand', 'Russia', 'Australia', 'Lithuania', 'Norway',\n",
       "       'Iceland', 'Puerto Rico', 'Mexico', 'Austria', 'Japan', 'Vietnam',\n",
       "       'Turkey', 'China', 'Greece', 'Iraq', 'Malaysia', 'Armenia',\n",
       "       'France', 'Chile', 'Indonesia', 'India', 'Hungary', 'Germany',\n",
       "       'Philippines', 'Venezuela', 'Pakistan', 'Iran', 'Afghanistan',\n",
       "       'Morocco', 'Taiwan', 'Saudi Arabia', 'eSwatini', 'Croatia',\n",
       "       'Colombia', 'Palestine', 'Egypt', 'Poland', 'Serbia',\n",
       "       'South Africa', 'Panama', 'Belgium', 'South Korea', 'Honduras',\n",
       "       'Sweden', 'Italy', 'Netherlands', 'Ireland', 'Dominican Rep.',\n",
       "       'Macedonia', 'Argentina', 'N. Cyprus', 'Namibia', 'Bangladesh',\n",
       "       'Jamaica', 'Syria', 'United Arab Emirates', 'Thailand',\n",
       "       'Greenland', 'Kuwait', 'Romania', 'Spain', 'Ukraine', 'Bulgaria',\n",
       "       'Slovakia', 'Tunisia', 'Algeria', 'Trinidad and Tobago', 'Finland',\n",
       "       'Kosovo', 'Lebanon', 'Libya', 'Sri Lanka', 'Israel', 'Costa Rica',\n",
       "       'Bosnia and Herz.', 'Latvia', 'Suriname', 'Uzbekistan', 'Ghana',\n",
       "       'Brazil', 'Nepal', 'Bolivia', 'Portugal', 'Cyprus', 'Jordan',\n",
       "       'Myanmar', 'Slovenia', 'Denmark', 'Luxembourg', 'Brunei', 'Cuba',\n",
       "       'Zimbabwe', 'Azerbaijan', 'Fiji', 'Paraguay', 'Estonia', 'Oman',\n",
       "       'Lesotho', 'Nigeria', 'Switzerland', 'Guyana', 'Peru', 'Belarus',\n",
       "       'Guatemala', 'Czechia', 'Kyrgyzstan', 'Belize', 'Ecuador', 'Kenya',\n",
       "       'El Salvador', 'Tanzania', 'Zambia', 'Cambodia', 'Ethiopia',\n",
       "       'Cameroon', 'Timor-Leste', 'Albania', 'Senegal', 'Botswana',\n",
       "       'Uruguay', 'Antarctica', 'Georgia', 'Uganda', 'Qatar', 'Bahamas',\n",
       "       'Kazakhstan', 'Dem. Rep. Congo', 'Mongolia', 'Laos'], dtype=object)"
      ]
     },
     "execution_count": 73,
     "metadata": {},
     "output_type": "execute_result"
    }
   ],
   "source": [
    "df2.name.unique()"
   ]
  },
  {
   "cell_type": "code",
   "execution_count": 74,
   "metadata": {},
   "outputs": [],
   "source": [
    "#geolocator = Nominatim(user_agent='manubueno96@hotmail.com')\n",
    "#location = geolocator.reverse(\"52.509669, 13.376294\")\n",
    "#print(location.raw)"
   ]
  },
  {
   "cell_type": "markdown",
   "metadata": {},
   "source": [
    "***"
   ]
  },
  {
   "cell_type": "markdown",
   "metadata": {},
   "source": [
    "**Final Dataframe for Analysis**"
   ]
  },
  {
   "cell_type": "code",
   "execution_count": 75,
   "metadata": {},
   "outputs": [],
   "source": [
    "finaltable = df2.copy()"
   ]
  },
  {
   "cell_type": "code",
   "execution_count": 76,
   "metadata": {},
   "outputs": [
    {
     "data": {
      "text/plain": [
       "Index(['shape', 'duration_seconds', 'comments', 'date_posted', 'latitude',\n",
       "       'longitude', 'date', 'time', 'year', 'month', 'weekday', 'duration',\n",
       "       'geometry', 'index_right', 'pop_est', 'continent', 'name', 'iso_a3',\n",
       "       'gdp_md_est'],\n",
       "      dtype='object')"
      ]
     },
     "execution_count": 76,
     "metadata": {},
     "output_type": "execute_result"
    }
   ],
   "source": [
    "finaltable.columns"
   ]
  },
  {
   "cell_type": "code",
   "execution_count": 77,
   "metadata": {},
   "outputs": [],
   "source": [
    "# Drop unnecesary columns\n",
    "finaltable.drop(['index_right', 'pop_est', 'gdp_md_est'], axis=1, inplace=True)"
   ]
  },
  {
   "cell_type": "code",
   "execution_count": 78,
   "metadata": {},
   "outputs": [
    {
     "data": {
      "text/plain": [
       "Index(['shape', 'duration_seconds', 'comments', 'date_posted', 'latitude',\n",
       "       'longitude', 'date', 'time', 'year', 'month', 'weekday', 'duration',\n",
       "       'geometry', 'continent', 'name', 'iso_a3'],\n",
       "      dtype='object')"
      ]
     },
     "execution_count": 78,
     "metadata": {},
     "output_type": "execute_result"
    }
   ],
   "source": [
    "finaltable.columns"
   ]
  },
  {
   "cell_type": "code",
   "execution_count": 79,
   "metadata": {},
   "outputs": [],
   "source": [
    "# Reorganise the columns \n",
    "finaltable = finaltable[['date', 'weekday', 'month', 'year', 'time', \n",
    "                         'name', 'iso_a3', 'continent', \n",
    "                         'latitude','longitude', 'geometry',\n",
    "                         'shape', 'duration', 'duration_seconds', 'comments', 'date_posted']]"
   ]
  },
  {
   "cell_type": "code",
   "execution_count": 80,
   "metadata": {},
   "outputs": [],
   "source": [
    "# Rename some of the columns\n",
    "finaltable.rename(columns={'iso_a3':'country_code'}, inplace=True)"
   ]
  },
  {
   "cell_type": "code",
   "execution_count": 81,
   "metadata": {
    "scrolled": true
   },
   "outputs": [],
   "source": [
    "finaltable.to_csv('finaltable.csv')"
   ]
  },
  {
   "cell_type": "code",
   "execution_count": 82,
   "metadata": {},
   "outputs": [
    {
     "data": {
      "text/plain": [
       "date                 0\n",
       "weekday              0\n",
       "month                0\n",
       "year                 0\n",
       "time                 0\n",
       "name                 0\n",
       "country_code         0\n",
       "continent            0\n",
       "latitude             0\n",
       "longitude            0\n",
       "geometry             0\n",
       "shape                0\n",
       "duration             0\n",
       "duration_seconds     0\n",
       "comments            14\n",
       "date_posted          0\n",
       "dtype: int64"
      ]
     },
     "execution_count": 82,
     "metadata": {},
     "output_type": "execute_result"
    }
   ],
   "source": [
    "# Check for missing values one last time\n",
    "finaltable.isnull().sum()"
   ]
  },
  {
   "cell_type": "code",
   "execution_count": 83,
   "metadata": {},
   "outputs": [
    {
     "data": {
      "text/plain": [
       "date                datetime64[ns]\n",
       "weekday                      int64\n",
       "month                        int64\n",
       "year                         int64\n",
       "time                         int64\n",
       "name                        object\n",
       "country_code                object\n",
       "continent                   object\n",
       "latitude                   float64\n",
       "longitude                  float64\n",
       "geometry                  geometry\n",
       "shape                       object\n",
       "duration                    object\n",
       "duration_seconds             int64\n",
       "comments                    object\n",
       "date_posted         datetime64[ns]\n",
       "dtype: object"
      ]
     },
     "execution_count": 83,
     "metadata": {},
     "output_type": "execute_result"
    }
   ],
   "source": [
    "# Check the dtypes one last time\n",
    "finaltable.dtypes"
   ]
  },
  {
   "cell_type": "code",
   "execution_count": 84,
   "metadata": {},
   "outputs": [
    {
     "data": {
      "text/plain": [
       "Index(['date', 'weekday', 'month', 'year', 'time', 'name', 'country_code',\n",
       "       'continent', 'latitude', 'longitude', 'geometry', 'shape', 'duration',\n",
       "       'duration_seconds', 'comments', 'date_posted'],\n",
       "      dtype='object')"
      ]
     },
     "execution_count": 84,
     "metadata": {},
     "output_type": "execute_result"
    }
   ],
   "source": [
    "# Make a copy of the finaltable to do some statistical analysis\n",
    "adf = finaltable.copy()\n",
    "adf.columns"
   ]
  },
  {
   "cell_type": "code",
   "execution_count": 85,
   "metadata": {},
   "outputs": [],
   "source": [
    "# Drop unnecesary columns\n",
    "adf.drop(['date', 'name', 'latitude', 'longitude', 'geometry', 'comments', 'date_posted'], axis=1, inplace=True)"
   ]
  },
  {
   "cell_type": "code",
   "execution_count": 86,
   "metadata": {},
   "outputs": [
    {
     "data": {
      "text/plain": [
       "weekday              int64\n",
       "month                int64\n",
       "year                 int64\n",
       "time                 int64\n",
       "country_code        object\n",
       "continent           object\n",
       "shape               object\n",
       "duration            object\n",
       "duration_seconds     int64\n",
       "dtype: object"
      ]
     },
     "execution_count": 86,
     "metadata": {},
     "output_type": "execute_result"
    }
   ],
   "source": [
    "adf.dtypes"
   ]
  },
  {
   "cell_type": "code",
   "execution_count": 87,
   "metadata": {},
   "outputs": [
    {
     "data": {
      "text/plain": [
       "1    25583\n",
       "0    22948\n",
       "2     9777\n",
       "5     7872\n",
       "6     7117\n",
       "4     2405\n",
       "3      926\n",
       "Name: shape, dtype: int64"
      ]
     },
     "execution_count": 87,
     "metadata": {},
     "output_type": "execute_result"
    }
   ],
   "source": [
    "# Encode the unique values from shapes\n",
    "adf['shape'] = adf['shape'].astype('category')\n",
    "adf['shape'] = adf['shape'].cat.codes\n",
    "adf['shape'].value_counts()"
   ]
  },
  {
   "cell_type": "code",
   "execution_count": 88,
   "metadata": {},
   "outputs": [],
   "source": [
    "#bright         =  0\n",
    "#circular       =  1\n",
    "#complicated    =  2\n",
    "#hexagonal      =  3\n",
    "#quadrilateral  =  4\n",
    "#triangular     =  5\n",
    "#unspecified    =  6"
   ]
  },
  {
   "cell_type": "code",
   "execution_count": 89,
   "metadata": {},
   "outputs": [
    {
     "data": {
      "text/plain": [
       "0    29507\n",
       "3    23073\n",
       "2    20214\n",
       "1     3834\n",
       "Name: duration, dtype: int64"
      ]
     },
     "execution_count": 89,
     "metadata": {},
     "output_type": "execute_result"
    }
   ],
   "source": [
    "# Encode the unique values from duration\n",
    "adf['duration'] = adf['duration'].astype('category')\n",
    "adf['duration'] = adf['duration'].cat.codes\n",
    "adf['duration'].value_counts()"
   ]
  },
  {
   "cell_type": "code",
   "execution_count": 90,
   "metadata": {},
   "outputs": [],
   "source": [
    "#brief  =   0\n",
    "#long   =   1\n",
    "#medium =   2\n",
    "#short  =   3"
   ]
  },
  {
   "cell_type": "code",
   "execution_count": 91,
   "metadata": {},
   "outputs": [],
   "source": [
    "# Encode country code and continent as well\n",
    "from sklearn import preprocessing\n",
    "le = preprocessing.LabelEncoder()\n",
    "\n",
    "adf['continent'] = le.fit_transform(adf['continent'])\n",
    "adf['country_code'] = le.fit_transform(adf['country_code'])"
   ]
  },
  {
   "cell_type": "code",
   "execution_count": 92,
   "metadata": {},
   "outputs": [
    {
     "data": {
      "text/plain": [
       "['AFG',\n",
       " 'ALB',\n",
       " 'ARE',\n",
       " 'ARG',\n",
       " 'ARM',\n",
       " 'ATA',\n",
       " 'AUS',\n",
       " 'AUT',\n",
       " 'AZE',\n",
       " 'BEL',\n",
       " 'BGD',\n",
       " 'BGR',\n",
       " 'BHS',\n",
       " 'BIH',\n",
       " 'BLR',\n",
       " 'BLZ',\n",
       " 'BOL',\n",
       " 'BRA',\n",
       " 'BRN',\n",
       " 'BWA',\n",
       " 'CAN',\n",
       " 'CHE',\n",
       " 'CHL',\n",
       " 'CHN',\n",
       " 'CMR',\n",
       " 'COD',\n",
       " 'COL',\n",
       " 'CRI',\n",
       " 'CUB',\n",
       " 'CYP',\n",
       " 'CZE',\n",
       " 'DEU',\n",
       " 'DNK',\n",
       " 'DOM',\n",
       " 'DZA',\n",
       " 'ECU',\n",
       " 'EGY',\n",
       " 'ESP',\n",
       " 'EST',\n",
       " 'ETH',\n",
       " 'FIN',\n",
       " 'FJI',\n",
       " 'FRA',\n",
       " 'GBR',\n",
       " 'GEO',\n",
       " 'GHA',\n",
       " 'GRC',\n",
       " 'GRL',\n",
       " 'GTM',\n",
       " 'GUY',\n",
       " 'HND',\n",
       " 'HRV',\n",
       " 'HUN',\n",
       " 'IDN',\n",
       " 'IND',\n",
       " 'IRL',\n",
       " 'IRN',\n",
       " 'IRQ',\n",
       " 'ISL',\n",
       " 'ISR',\n",
       " 'ITA',\n",
       " 'JAM',\n",
       " 'JOR',\n",
       " 'JPN',\n",
       " 'KAZ',\n",
       " 'KEN',\n",
       " 'KGZ',\n",
       " 'KHM',\n",
       " 'KOR',\n",
       " 'KWT',\n",
       " 'LAO',\n",
       " 'LBN',\n",
       " 'LBY',\n",
       " 'LKA',\n",
       " 'LSO',\n",
       " 'LTU',\n",
       " 'LUX',\n",
       " 'LVA',\n",
       " 'MAR',\n",
       " 'MEX',\n",
       " 'MKD',\n",
       " 'MMR',\n",
       " 'MNG',\n",
       " 'MYS',\n",
       " 'NAM',\n",
       " 'NGA',\n",
       " 'NLD',\n",
       " 'NOR',\n",
       " 'NPL',\n",
       " 'NZL',\n",
       " 'OMN',\n",
       " 'PAK',\n",
       " 'PAN',\n",
       " 'PER',\n",
       " 'PHL',\n",
       " 'POL',\n",
       " 'PRI',\n",
       " 'PRT',\n",
       " 'PRY',\n",
       " 'PSE',\n",
       " 'QAT',\n",
       " 'RKS',\n",
       " 'ROU',\n",
       " 'RUS',\n",
       " 'SAU',\n",
       " 'SEN',\n",
       " 'SLV',\n",
       " 'SRB',\n",
       " 'SUR',\n",
       " 'SVK',\n",
       " 'SVN',\n",
       " 'SWE',\n",
       " 'SWZ',\n",
       " 'SYR',\n",
       " 'THA',\n",
       " 'TLS',\n",
       " 'TTO',\n",
       " 'TUN',\n",
       " 'TUR',\n",
       " 'TWN',\n",
       " 'TZA',\n",
       " 'UGA',\n",
       " 'UKR',\n",
       " 'URY',\n",
       " 'USA',\n",
       " 'UZB',\n",
       " 'VEN',\n",
       " 'VNM',\n",
       " 'ZAF',\n",
       " 'ZMB',\n",
       " 'ZWE']"
      ]
     },
     "execution_count": 92,
     "metadata": {},
     "output_type": "execute_result"
    }
   ],
   "source": [
    "list(le.classes_)"
   ]
  },
  {
   "cell_type": "code",
   "execution_count": 93,
   "metadata": {},
   "outputs": [
    {
     "data": {
      "text/html": [
       "<div>\n",
       "<style scoped>\n",
       "    .dataframe tbody tr th:only-of-type {\n",
       "        vertical-align: middle;\n",
       "    }\n",
       "\n",
       "    .dataframe tbody tr th {\n",
       "        vertical-align: top;\n",
       "    }\n",
       "\n",
       "    .dataframe thead th {\n",
       "        text-align: right;\n",
       "    }\n",
       "</style>\n",
       "<table border=\"1\" class=\"dataframe\">\n",
       "  <thead>\n",
       "    <tr style=\"text-align: right;\">\n",
       "      <th></th>\n",
       "      <th>date</th>\n",
       "      <th>weekday</th>\n",
       "      <th>month</th>\n",
       "      <th>year</th>\n",
       "      <th>time</th>\n",
       "      <th>name</th>\n",
       "      <th>country_code</th>\n",
       "      <th>continent</th>\n",
       "      <th>latitude</th>\n",
       "      <th>longitude</th>\n",
       "      <th>geometry</th>\n",
       "      <th>shape</th>\n",
       "      <th>duration</th>\n",
       "      <th>duration_seconds</th>\n",
       "      <th>comments</th>\n",
       "      <th>date_posted</th>\n",
       "    </tr>\n",
       "  </thead>\n",
       "  <tbody>\n",
       "    <tr>\n",
       "      <td>0</td>\n",
       "      <td>1949-10-10</td>\n",
       "      <td>0</td>\n",
       "      <td>10</td>\n",
       "      <td>1949</td>\n",
       "      <td>2030</td>\n",
       "      <td>United States of America</td>\n",
       "      <td>USA</td>\n",
       "      <td>North America</td>\n",
       "      <td>29.883056</td>\n",
       "      <td>-97.941111</td>\n",
       "      <td>POINT (-97.94111 29.88306)</td>\n",
       "      <td>circular</td>\n",
       "      <td>medium</td>\n",
       "      <td>2700</td>\n",
       "      <td>This event took place in early fall around 194...</td>\n",
       "      <td>2004-04-27</td>\n",
       "    </tr>\n",
       "    <tr>\n",
       "      <td>1</td>\n",
       "      <td>1949-10-10</td>\n",
       "      <td>0</td>\n",
       "      <td>10</td>\n",
       "      <td>1949</td>\n",
       "      <td>2100</td>\n",
       "      <td>United States of America</td>\n",
       "      <td>USA</td>\n",
       "      <td>North America</td>\n",
       "      <td>29.384210</td>\n",
       "      <td>-98.581082</td>\n",
       "      <td>POINT (-98.58108 29.38421)</td>\n",
       "      <td>bright</td>\n",
       "      <td>long</td>\n",
       "      <td>7200</td>\n",
       "      <td>1949 Lackland AFB&amp;#44 TX.  Lights racing acros...</td>\n",
       "      <td>2005-12-16</td>\n",
       "    </tr>\n",
       "    <tr>\n",
       "      <td>2</td>\n",
       "      <td>1955-10-10</td>\n",
       "      <td>0</td>\n",
       "      <td>10</td>\n",
       "      <td>1955</td>\n",
       "      <td>1700</td>\n",
       "      <td>United Kingdom</td>\n",
       "      <td>GBR</td>\n",
       "      <td>Europe</td>\n",
       "      <td>53.200000</td>\n",
       "      <td>-2.916667</td>\n",
       "      <td>POINT (-2.91667 53.20000)</td>\n",
       "      <td>circular</td>\n",
       "      <td>brief</td>\n",
       "      <td>20</td>\n",
       "      <td>Green/Orange circular disc over Chester&amp;#44 En...</td>\n",
       "      <td>2008-01-21</td>\n",
       "    </tr>\n",
       "    <tr>\n",
       "      <td>3</td>\n",
       "      <td>1956-10-10</td>\n",
       "      <td>2</td>\n",
       "      <td>10</td>\n",
       "      <td>1956</td>\n",
       "      <td>2100</td>\n",
       "      <td>United States of America</td>\n",
       "      <td>USA</td>\n",
       "      <td>North America</td>\n",
       "      <td>28.978333</td>\n",
       "      <td>-96.645833</td>\n",
       "      <td>POINT (-96.64583 28.97833)</td>\n",
       "      <td>circular</td>\n",
       "      <td>brief</td>\n",
       "      <td>20</td>\n",
       "      <td>My older brother and twin sister were leaving ...</td>\n",
       "      <td>2004-01-17</td>\n",
       "    </tr>\n",
       "    <tr>\n",
       "      <td>4</td>\n",
       "      <td>1960-10-10</td>\n",
       "      <td>0</td>\n",
       "      <td>10</td>\n",
       "      <td>1960</td>\n",
       "      <td>2000</td>\n",
       "      <td>United States of America</td>\n",
       "      <td>USA</td>\n",
       "      <td>North America</td>\n",
       "      <td>21.418056</td>\n",
       "      <td>-157.803611</td>\n",
       "      <td>POINT (-157.80361 21.41806)</td>\n",
       "      <td>bright</td>\n",
       "      <td>medium</td>\n",
       "      <td>900</td>\n",
       "      <td>AS a Marine 1st Lt. flying an FJ4B fighter/att...</td>\n",
       "      <td>2004-01-22</td>\n",
       "    </tr>\n",
       "  </tbody>\n",
       "</table>\n",
       "</div>"
      ],
      "text/plain": [
       "        date  weekday  month  year  time                      name  \\\n",
       "0 1949-10-10        0     10  1949  2030  United States of America   \n",
       "1 1949-10-10        0     10  1949  2100  United States of America   \n",
       "2 1955-10-10        0     10  1955  1700            United Kingdom   \n",
       "3 1956-10-10        2     10  1956  2100  United States of America   \n",
       "4 1960-10-10        0     10  1960  2000  United States of America   \n",
       "\n",
       "  country_code      continent   latitude   longitude  \\\n",
       "0          USA  North America  29.883056  -97.941111   \n",
       "1          USA  North America  29.384210  -98.581082   \n",
       "2          GBR         Europe  53.200000   -2.916667   \n",
       "3          USA  North America  28.978333  -96.645833   \n",
       "4          USA  North America  21.418056 -157.803611   \n",
       "\n",
       "                      geometry     shape duration  duration_seconds  \\\n",
       "0   POINT (-97.94111 29.88306)  circular   medium              2700   \n",
       "1   POINT (-98.58108 29.38421)    bright     long              7200   \n",
       "2    POINT (-2.91667 53.20000)  circular    brief                20   \n",
       "3   POINT (-96.64583 28.97833)  circular    brief                20   \n",
       "4  POINT (-157.80361 21.41806)    bright   medium               900   \n",
       "\n",
       "                                            comments date_posted  \n",
       "0  This event took place in early fall around 194...  2004-04-27  \n",
       "1  1949 Lackland AFB&#44 TX.  Lights racing acros...  2005-12-16  \n",
       "2  Green/Orange circular disc over Chester&#44 En...  2008-01-21  \n",
       "3  My older brother and twin sister were leaving ...  2004-01-17  \n",
       "4  AS a Marine 1st Lt. flying an FJ4B fighter/att...  2004-01-22  "
      ]
     },
     "execution_count": 93,
     "metadata": {},
     "output_type": "execute_result"
    }
   ],
   "source": [
    "finaltable.head(5)"
   ]
  },
  {
   "cell_type": "code",
   "execution_count": 94,
   "metadata": {},
   "outputs": [
    {
     "data": {
      "text/html": [
       "<div>\n",
       "<style scoped>\n",
       "    .dataframe tbody tr th:only-of-type {\n",
       "        vertical-align: middle;\n",
       "    }\n",
       "\n",
       "    .dataframe tbody tr th {\n",
       "        vertical-align: top;\n",
       "    }\n",
       "\n",
       "    .dataframe thead th {\n",
       "        text-align: right;\n",
       "    }\n",
       "</style>\n",
       "<table border=\"1\" class=\"dataframe\">\n",
       "  <thead>\n",
       "    <tr style=\"text-align: right;\">\n",
       "      <th></th>\n",
       "      <th>weekday</th>\n",
       "      <th>month</th>\n",
       "      <th>year</th>\n",
       "      <th>time</th>\n",
       "      <th>country_code</th>\n",
       "      <th>continent</th>\n",
       "      <th>shape</th>\n",
       "      <th>duration</th>\n",
       "      <th>duration_seconds</th>\n",
       "    </tr>\n",
       "  </thead>\n",
       "  <tbody>\n",
       "    <tr>\n",
       "      <td>0</td>\n",
       "      <td>0</td>\n",
       "      <td>10</td>\n",
       "      <td>1949</td>\n",
       "      <td>2030</td>\n",
       "      <td>124</td>\n",
       "      <td>4</td>\n",
       "      <td>1</td>\n",
       "      <td>2</td>\n",
       "      <td>2700</td>\n",
       "    </tr>\n",
       "    <tr>\n",
       "      <td>1</td>\n",
       "      <td>0</td>\n",
       "      <td>10</td>\n",
       "      <td>1949</td>\n",
       "      <td>2100</td>\n",
       "      <td>124</td>\n",
       "      <td>4</td>\n",
       "      <td>0</td>\n",
       "      <td>1</td>\n",
       "      <td>7200</td>\n",
       "    </tr>\n",
       "    <tr>\n",
       "      <td>2</td>\n",
       "      <td>0</td>\n",
       "      <td>10</td>\n",
       "      <td>1955</td>\n",
       "      <td>1700</td>\n",
       "      <td>43</td>\n",
       "      <td>3</td>\n",
       "      <td>1</td>\n",
       "      <td>0</td>\n",
       "      <td>20</td>\n",
       "    </tr>\n",
       "    <tr>\n",
       "      <td>3</td>\n",
       "      <td>2</td>\n",
       "      <td>10</td>\n",
       "      <td>1956</td>\n",
       "      <td>2100</td>\n",
       "      <td>124</td>\n",
       "      <td>4</td>\n",
       "      <td>1</td>\n",
       "      <td>0</td>\n",
       "      <td>20</td>\n",
       "    </tr>\n",
       "    <tr>\n",
       "      <td>4</td>\n",
       "      <td>0</td>\n",
       "      <td>10</td>\n",
       "      <td>1960</td>\n",
       "      <td>2000</td>\n",
       "      <td>124</td>\n",
       "      <td>4</td>\n",
       "      <td>0</td>\n",
       "      <td>2</td>\n",
       "      <td>900</td>\n",
       "    </tr>\n",
       "  </tbody>\n",
       "</table>\n",
       "</div>"
      ],
      "text/plain": [
       "   weekday  month  year  time  country_code  continent  shape  duration  \\\n",
       "0        0     10  1949  2030           124          4      1         2   \n",
       "1        0     10  1949  2100           124          4      0         1   \n",
       "2        0     10  1955  1700            43          3      1         0   \n",
       "3        2     10  1956  2100           124          4      1         0   \n",
       "4        0     10  1960  2000           124          4      0         2   \n",
       "\n",
       "   duration_seconds  \n",
       "0              2700  \n",
       "1              7200  \n",
       "2                20  \n",
       "3                20  \n",
       "4               900  "
      ]
     },
     "execution_count": 94,
     "metadata": {},
     "output_type": "execute_result"
    }
   ],
   "source": [
    "adf.head(5)"
   ]
  },
  {
   "cell_type": "markdown",
   "metadata": {},
   "source": [
    "***\n",
    "***"
   ]
  },
  {
   "cell_type": "markdown",
   "metadata": {},
   "source": [
    "## 2. Analysis"
   ]
  },
  {
   "cell_type": "markdown",
   "metadata": {},
   "source": [
    "- Countries with the most reported sightings \n",
    "    - In countries with the most reported sightings, regions with the most sightings\n",
    "\n",
    "- Most seen shape\n",
    "\n",
    "- Average duration of sightings\n",
    "\n",
    "- Average time waited between sighting and report  \n",
    "\n",
    "- Time of day these sightings occur the most\n",
    "- Day of the week these sightings occur the most"
   ]
  },
  {
   "cell_type": "code",
   "execution_count": 95,
   "metadata": {},
   "outputs": [
    {
     "data": {
      "text/plain": [
       "Index(['date', 'weekday', 'month', 'year', 'time', 'name', 'country_code',\n",
       "       'continent', 'latitude', 'longitude', 'geometry', 'shape', 'duration',\n",
       "       'duration_seconds', 'comments', 'date_posted'],\n",
       "      dtype='object')"
      ]
     },
     "execution_count": 95,
     "metadata": {},
     "output_type": "execute_result"
    }
   ],
   "source": [
    "finaltable.columns"
   ]
  },
  {
   "cell_type": "code",
   "execution_count": 96,
   "metadata": {},
   "outputs": [
    {
     "data": {
      "text/plain": [
       "Index(['weekday', 'month', 'year', 'time', 'country_code', 'continent',\n",
       "       'shape', 'duration', 'duration_seconds'],\n",
       "      dtype='object')"
      ]
     },
     "execution_count": 96,
     "metadata": {},
     "output_type": "execute_result"
    }
   ],
   "source": [
    "adf.columns"
   ]
  },
  {
   "cell_type": "code",
   "execution_count": 97,
   "metadata": {},
   "outputs": [
    {
     "data": {
      "image/png": "[encoded data removed]",
      "text/plain": [
       "<Figure size 432x288 with 1 Axes>"
      ]
     },
     "metadata": {
      "needs_background": "light"
     },
     "output_type": "display_data"
    }
   ],
   "source": [
    "# Countries with the most reported sightings \n",
    "ax = sns.countplot(x=\"continent\", data=finaltable)"
   ]
  },
  {
   "cell_type": "code",
   "execution_count": 98,
   "metadata": {
    "scrolled": true
   },
   "outputs": [],
   "source": [
    "north_america = finaltable[finaltable['continent'] == 'North America']\n",
    "europe = finaltable[finaltable['continent'] == 'Europe']"
   ]
  },
  {
   "cell_type": "code",
   "execution_count": 99,
   "metadata": {},
   "outputs": [
    {
     "data": {
      "image/png": "[encoded data removed]",
      "text/plain": [
       "<Figure size 432x288 with 1 Axes>"
      ]
     },
     "metadata": {
      "needs_background": "light"
     },
     "output_type": "display_data"
    }
   ],
   "source": [
    "#Closer look to North America\n",
    "world = gpd.read_file(gpd.datasets.get_path('naturalearth_lowres'))\n",
    "ax = world[world.continent == 'North America'].plot(color='white', edgecolor='black')\n",
    "\n",
    "#To see what regions have the most sightings\n",
    "north_america.plot(ax=ax, color='red')\n",
    "plt.show()"
   ]
  },
  {
   "cell_type": "code",
   "execution_count": 100,
   "metadata": {},
   "outputs": [
    {
     "data": {
      "image/png": "[encoded data removed]",
      "text/plain": [
       "<Figure size 432x288 with 1 Axes>"
      ]
     },
     "metadata": {
      "needs_background": "light"
     },
     "output_type": "display_data"
    }
   ],
   "source": [
    "#Closer look to Europe\n",
    "world = gpd.read_file(gpd.datasets.get_path('naturalearth_lowres'))\n",
    "ax = world[world.continent == 'Europe'].plot(color='white', edgecolor='black')\n",
    "\n",
    "#To see what regions have the most sightings\n",
    "europe.plot(ax=ax, color='red')\n",
    "plt.show()"
   ]
  },
  {
   "cell_type": "code",
   "execution_count": 101,
   "metadata": {},
   "outputs": [
    {
     "data": {
      "image/png": "[encoded data removed]",
      "text/plain": [
       "<Figure size 432x288 with 1 Axes>"
      ]
     },
     "metadata": {
      "needs_background": "light"
     },
     "output_type": "display_data"
    }
   ],
   "source": [
    "# Most seen shape\n",
    "ax = sns.countplot(x=\"shape\", data=finaltable)"
   ]
  },
  {
   "cell_type": "code",
   "execution_count": 102,
   "metadata": {},
   "outputs": [
    {
     "data": {
      "text/plain": [
       "1.8217492300464582"
      ]
     },
     "execution_count": 102,
     "metadata": {},
     "output_type": "execute_result"
    }
   ],
   "source": [
    "# Most commun shape (1 = cirucular)\n",
    "adf[\"shape\"].mean()"
   ]
  },
  {
   "cell_type": "code",
   "execution_count": 103,
   "metadata": {},
   "outputs": [
    {
     "data": {
      "text/html": [
       "<div>\n",
       "<style scoped>\n",
       "    .dataframe tbody tr th:only-of-type {\n",
       "        vertical-align: middle;\n",
       "    }\n",
       "\n",
       "    .dataframe tbody tr th {\n",
       "        vertical-align: top;\n",
       "    }\n",
       "\n",
       "    .dataframe thead th {\n",
       "        text-align: right;\n",
       "    }\n",
       "</style>\n",
       "<table border=\"1\" class=\"dataframe\">\n",
       "  <thead>\n",
       "    <tr style=\"text-align: right;\">\n",
       "      <th></th>\n",
       "      <th>weekday</th>\n",
       "      <th>month</th>\n",
       "      <th>year</th>\n",
       "      <th>time</th>\n",
       "      <th>continent</th>\n",
       "      <th>shape</th>\n",
       "      <th>duration</th>\n",
       "      <th>duration_seconds</th>\n",
       "    </tr>\n",
       "    <tr>\n",
       "      <th>country_code</th>\n",
       "      <th></th>\n",
       "      <th></th>\n",
       "      <th></th>\n",
       "      <th></th>\n",
       "      <th></th>\n",
       "      <th></th>\n",
       "      <th></th>\n",
       "      <th></th>\n",
       "    </tr>\n",
       "  </thead>\n",
       "  <tbody>\n",
       "    <tr>\n",
       "      <td>105</td>\n",
       "      <td>4.000000</td>\n",
       "      <td>6.500000</td>\n",
       "      <td>2002.500000</td>\n",
       "      <td>215.000000</td>\n",
       "      <td>0.0</td>\n",
       "      <td>0.000000</td>\n",
       "      <td>1.500000</td>\n",
       "      <td>180.0</td>\n",
       "    </tr>\n",
       "    <tr>\n",
       "      <td>34</td>\n",
       "      <td>2.000000</td>\n",
       "      <td>10.000000</td>\n",
       "      <td>2012.000000</td>\n",
       "      <td>500.000000</td>\n",
       "      <td>0.0</td>\n",
       "      <td>0.000000</td>\n",
       "      <td>0.000000</td>\n",
       "      <td>60.0</td>\n",
       "    </tr>\n",
       "    <tr>\n",
       "      <td>44</td>\n",
       "      <td>4.000000</td>\n",
       "      <td>5.000000</td>\n",
       "      <td>2009.000000</td>\n",
       "      <td>2110.000000</td>\n",
       "      <td>2.0</td>\n",
       "      <td>0.000000</td>\n",
       "      <td>0.000000</td>\n",
       "      <td>15.0</td>\n",
       "    </tr>\n",
       "    <tr>\n",
       "      <td>120</td>\n",
       "      <td>4.000000</td>\n",
       "      <td>1.000000</td>\n",
       "      <td>2009.000000</td>\n",
       "      <td>1940.000000</td>\n",
       "      <td>0.0</td>\n",
       "      <td>0.000000</td>\n",
       "      <td>0.000000</td>\n",
       "      <td>4.0</td>\n",
       "    </tr>\n",
       "    <tr>\n",
       "      <td>5</td>\n",
       "      <td>6.000000</td>\n",
       "      <td>5.000000</td>\n",
       "      <td>1994.000000</td>\n",
       "      <td>1300.000000</td>\n",
       "      <td>1.0</td>\n",
       "      <td>0.000000</td>\n",
       "      <td>0.000000</td>\n",
       "      <td>2.0</td>\n",
       "    </tr>\n",
       "    <tr>\n",
       "      <td>...</td>\n",
       "      <td>...</td>\n",
       "      <td>...</td>\n",
       "      <td>...</td>\n",
       "      <td>...</td>\n",
       "      <td>...</td>\n",
       "      <td>...</td>\n",
       "      <td>...</td>\n",
       "      <td>...</td>\n",
       "    </tr>\n",
       "    <tr>\n",
       "      <td>24</td>\n",
       "      <td>1.000000</td>\n",
       "      <td>4.000000</td>\n",
       "      <td>2006.000000</td>\n",
       "      <td>2313.000000</td>\n",
       "      <td>0.0</td>\n",
       "      <td>4.000000</td>\n",
       "      <td>2.000000</td>\n",
       "      <td>720.0</td>\n",
       "    </tr>\n",
       "    <tr>\n",
       "      <td>4</td>\n",
       "      <td>0.666667</td>\n",
       "      <td>6.333333</td>\n",
       "      <td>2010.666667</td>\n",
       "      <td>2146.333333</td>\n",
       "      <td>2.0</td>\n",
       "      <td>4.333333</td>\n",
       "      <td>1.333333</td>\n",
       "      <td>360.0</td>\n",
       "    </tr>\n",
       "    <tr>\n",
       "      <td>19</td>\n",
       "      <td>1.000000</td>\n",
       "      <td>6.000000</td>\n",
       "      <td>2008.000000</td>\n",
       "      <td>1830.000000</td>\n",
       "      <td>0.0</td>\n",
       "      <td>5.000000</td>\n",
       "      <td>2.000000</td>\n",
       "      <td>2250.0</td>\n",
       "    </tr>\n",
       "    <tr>\n",
       "      <td>115</td>\n",
       "      <td>3.000000</td>\n",
       "      <td>4.000000</td>\n",
       "      <td>2000.000000</td>\n",
       "      <td>525.000000</td>\n",
       "      <td>2.0</td>\n",
       "      <td>6.000000</td>\n",
       "      <td>0.000000</td>\n",
       "      <td>45.0</td>\n",
       "    </tr>\n",
       "    <tr>\n",
       "      <td>66</td>\n",
       "      <td>6.000000</td>\n",
       "      <td>12.000000</td>\n",
       "      <td>2004.000000</td>\n",
       "      <td>2220.000000</td>\n",
       "      <td>2.0</td>\n",
       "      <td>6.000000</td>\n",
       "      <td>1.000000</td>\n",
       "      <td>7200.0</td>\n",
       "    </tr>\n",
       "  </tbody>\n",
       "</table>\n",
       "<p>131 rows × 8 columns</p>\n",
       "</div>"
      ],
      "text/plain": [
       "               weekday      month         year         time  continent  \\\n",
       "country_code                                                             \n",
       "105           4.000000   6.500000  2002.500000   215.000000        0.0   \n",
       "34            2.000000  10.000000  2012.000000   500.000000        0.0   \n",
       "44            4.000000   5.000000  2009.000000  2110.000000        2.0   \n",
       "120           4.000000   1.000000  2009.000000  1940.000000        0.0   \n",
       "5             6.000000   5.000000  1994.000000  1300.000000        1.0   \n",
       "...                ...        ...          ...          ...        ...   \n",
       "24            1.000000   4.000000  2006.000000  2313.000000        0.0   \n",
       "4             0.666667   6.333333  2010.666667  2146.333333        2.0   \n",
       "19            1.000000   6.000000  2008.000000  1830.000000        0.0   \n",
       "115           3.000000   4.000000  2000.000000   525.000000        2.0   \n",
       "66            6.000000  12.000000  2004.000000  2220.000000        2.0   \n",
       "\n",
       "                 shape  duration  duration_seconds  \n",
       "country_code                                        \n",
       "105           0.000000  1.500000             180.0  \n",
       "34            0.000000  0.000000              60.0  \n",
       "44            0.000000  0.000000              15.0  \n",
       "120           0.000000  0.000000               4.0  \n",
       "5             0.000000  0.000000               2.0  \n",
       "...                ...       ...               ...  \n",
       "24            4.000000  2.000000             720.0  \n",
       "4             4.333333  1.333333             360.0  \n",
       "19            5.000000  2.000000            2250.0  \n",
       "115           6.000000  0.000000              45.0  \n",
       "66            6.000000  1.000000            7200.0  \n",
       "\n",
       "[131 rows x 8 columns]"
      ]
     },
     "execution_count": 103,
     "metadata": {},
     "output_type": "execute_result"
    }
   ],
   "source": [
    "# Average shape per country\n",
    "adf.groupby(by='country_code').mean().sort_values(by='shape')"
   ]
  },
  {
   "cell_type": "code",
   "execution_count": 104,
   "metadata": {},
   "outputs": [
    {
     "data": {
      "text/plain": [
       "'SEN'"
      ]
     },
     "execution_count": 104,
     "metadata": {},
     "output_type": "execute_result"
    }
   ],
   "source": [
    "list(le.classes_)[105]"
   ]
  },
  {
   "cell_type": "code",
   "execution_count": 105,
   "metadata": {},
   "outputs": [
    {
     "data": {
      "image/png": "[encoded data removed]",
      "text/plain": [
       "<Figure size 432x288 with 1 Axes>"
      ]
     },
     "metadata": {
      "needs_background": "light"
     },
     "output_type": "display_data"
    }
   ],
   "source": [
    "# Most commun range of duration\n",
    "ax = sns.countplot(x=\"duration\", data=finaltable)"
   ]
  },
  {
   "cell_type": "code",
   "execution_count": 106,
   "metadata": {},
   "outputs": [
    {
     "data": {
      "image/png": "[encoded data removed]",
      "text/plain": [
       "<Figure size 432x288 with 1 Axes>"
      ]
     },
     "metadata": {
      "needs_background": "light"
     },
     "output_type": "display_data"
    }
   ],
   "source": [
    "# Distribution of duration of sightings\n",
    "ax = sns.distplot(adf[\"duration_seconds\"], bins=1)"
   ]
  },
  {
   "cell_type": "code",
   "execution_count": 107,
   "metadata": {},
   "outputs": [
    {
     "data": {
      "text/plain": [
       "616.346087592003"
      ]
     },
     "execution_count": 107,
     "metadata": {},
     "output_type": "execute_result"
    }
   ],
   "source": [
    "# Average duration of sighting in seconds (616s = 10min)\n",
    "adf[\"duration_seconds\"].mean()"
   ]
  },
  {
   "cell_type": "code",
   "execution_count": 108,
   "metadata": {},
   "outputs": [
    {
     "data": {
      "text/html": [
       "<div>\n",
       "<style scoped>\n",
       "    .dataframe tbody tr th:only-of-type {\n",
       "        vertical-align: middle;\n",
       "    }\n",
       "\n",
       "    .dataframe tbody tr th {\n",
       "        vertical-align: top;\n",
       "    }\n",
       "\n",
       "    .dataframe thead th {\n",
       "        text-align: right;\n",
       "    }\n",
       "</style>\n",
       "<table border=\"1\" class=\"dataframe\">\n",
       "  <thead>\n",
       "    <tr style=\"text-align: right;\">\n",
       "      <th></th>\n",
       "      <th>weekday</th>\n",
       "      <th>month</th>\n",
       "      <th>year</th>\n",
       "      <th>time</th>\n",
       "      <th>latitude</th>\n",
       "      <th>longitude</th>\n",
       "      <th>duration_seconds</th>\n",
       "    </tr>\n",
       "    <tr>\n",
       "      <th>country_code</th>\n",
       "      <th></th>\n",
       "      <th></th>\n",
       "      <th></th>\n",
       "      <th></th>\n",
       "      <th></th>\n",
       "      <th></th>\n",
       "      <th></th>\n",
       "    </tr>\n",
       "  </thead>\n",
       "  <tbody>\n",
       "    <tr>\n",
       "      <td>ATA</td>\n",
       "      <td>6.000000</td>\n",
       "      <td>5.000000</td>\n",
       "      <td>1994.000000</td>\n",
       "      <td>1300.0</td>\n",
       "      <td>-82.862752</td>\n",
       "      <td>-135.000000</td>\n",
       "      <td>2.000000</td>\n",
       "    </tr>\n",
       "    <tr>\n",
       "      <td>TZA</td>\n",
       "      <td>4.000000</td>\n",
       "      <td>1.000000</td>\n",
       "      <td>2009.000000</td>\n",
       "      <td>1940.0</td>\n",
       "      <td>-6.800000</td>\n",
       "      <td>39.283333</td>\n",
       "      <td>4.000000</td>\n",
       "    </tr>\n",
       "    <tr>\n",
       "      <td>GHA</td>\n",
       "      <td>3.000000</td>\n",
       "      <td>11.000000</td>\n",
       "      <td>2005.000000</td>\n",
       "      <td>1830.0</td>\n",
       "      <td>5.550000</td>\n",
       "      <td>-0.200000</td>\n",
       "      <td>5.000000</td>\n",
       "    </tr>\n",
       "    <tr>\n",
       "      <td>OMN</td>\n",
       "      <td>4.000000</td>\n",
       "      <td>1.000000</td>\n",
       "      <td>2014.000000</td>\n",
       "      <td>2115.0</td>\n",
       "      <td>23.610000</td>\n",
       "      <td>58.540000</td>\n",
       "      <td>15.000000</td>\n",
       "    </tr>\n",
       "    <tr>\n",
       "      <td>GEO</td>\n",
       "      <td>4.000000</td>\n",
       "      <td>5.000000</td>\n",
       "      <td>2009.000000</td>\n",
       "      <td>2110.0</td>\n",
       "      <td>41.716667</td>\n",
       "      <td>44.783333</td>\n",
       "      <td>15.000000</td>\n",
       "    </tr>\n",
       "    <tr>\n",
       "      <td>...</td>\n",
       "      <td>...</td>\n",
       "      <td>...</td>\n",
       "      <td>...</td>\n",
       "      <td>...</td>\n",
       "      <td>...</td>\n",
       "      <td>...</td>\n",
       "      <td>...</td>\n",
       "    </tr>\n",
       "    <tr>\n",
       "      <td>BLZ</td>\n",
       "      <td>1.500000</td>\n",
       "      <td>4.000000</td>\n",
       "      <td>2007.000000</td>\n",
       "      <td>1550.0</td>\n",
       "      <td>17.220633</td>\n",
       "      <td>-88.632297</td>\n",
       "      <td>2040.000000</td>\n",
       "    </tr>\n",
       "    <tr>\n",
       "      <td>IDN</td>\n",
       "      <td>3.800000</td>\n",
       "      <td>8.466667</td>\n",
       "      <td>2008.733333</td>\n",
       "      <td>1353.0</td>\n",
       "      <td>-3.223705</td>\n",
       "      <td>104.681860</td>\n",
       "      <td>2106.466667</td>\n",
       "    </tr>\n",
       "    <tr>\n",
       "      <td>BWA</td>\n",
       "      <td>1.000000</td>\n",
       "      <td>6.000000</td>\n",
       "      <td>2008.000000</td>\n",
       "      <td>1830.0</td>\n",
       "      <td>-24.658056</td>\n",
       "      <td>25.912222</td>\n",
       "      <td>2250.000000</td>\n",
       "    </tr>\n",
       "    <tr>\n",
       "      <td>UZB</td>\n",
       "      <td>0.333333</td>\n",
       "      <td>4.666667</td>\n",
       "      <td>1993.000000</td>\n",
       "      <td>1310.0</td>\n",
       "      <td>41.102937</td>\n",
       "      <td>63.287494</td>\n",
       "      <td>2710.000000</td>\n",
       "    </tr>\n",
       "    <tr>\n",
       "      <td>KGZ</td>\n",
       "      <td>6.000000</td>\n",
       "      <td>12.000000</td>\n",
       "      <td>2004.000000</td>\n",
       "      <td>2220.0</td>\n",
       "      <td>42.874722</td>\n",
       "      <td>74.612222</td>\n",
       "      <td>7200.000000</td>\n",
       "    </tr>\n",
       "  </tbody>\n",
       "</table>\n",
       "<p>131 rows × 7 columns</p>\n",
       "</div>"
      ],
      "text/plain": [
       "               weekday      month         year    time   latitude   longitude  \\\n",
       "country_code                                                                    \n",
       "ATA           6.000000   5.000000  1994.000000  1300.0 -82.862752 -135.000000   \n",
       "TZA           4.000000   1.000000  2009.000000  1940.0  -6.800000   39.283333   \n",
       "GHA           3.000000  11.000000  2005.000000  1830.0   5.550000   -0.200000   \n",
       "OMN           4.000000   1.000000  2014.000000  2115.0  23.610000   58.540000   \n",
       "GEO           4.000000   5.000000  2009.000000  2110.0  41.716667   44.783333   \n",
       "...                ...        ...          ...     ...        ...         ...   \n",
       "BLZ           1.500000   4.000000  2007.000000  1550.0  17.220633  -88.632297   \n",
       "IDN           3.800000   8.466667  2008.733333  1353.0  -3.223705  104.681860   \n",
       "BWA           1.000000   6.000000  2008.000000  1830.0 -24.658056   25.912222   \n",
       "UZB           0.333333   4.666667  1993.000000  1310.0  41.102937   63.287494   \n",
       "KGZ           6.000000  12.000000  2004.000000  2220.0  42.874722   74.612222   \n",
       "\n",
       "              duration_seconds  \n",
       "country_code                    \n",
       "ATA                   2.000000  \n",
       "TZA                   4.000000  \n",
       "GHA                   5.000000  \n",
       "OMN                  15.000000  \n",
       "GEO                  15.000000  \n",
       "...                        ...  \n",
       "BLZ                2040.000000  \n",
       "IDN                2106.466667  \n",
       "BWA                2250.000000  \n",
       "UZB                2710.000000  \n",
       "KGZ                7200.000000  \n",
       "\n",
       "[131 rows x 7 columns]"
      ]
     },
     "execution_count": 108,
     "metadata": {},
     "output_type": "execute_result"
    }
   ],
   "source": [
    "# Average duration in seconds per country\n",
    "finaltable.groupby(by='country_code').mean().sort_values(by='duration_seconds')"
   ]
  },
  {
   "cell_type": "code",
   "execution_count": 109,
   "metadata": {},
   "outputs": [],
   "source": [
    "# Average time waited between sighting and report  "
   ]
  },
  {
   "cell_type": "code",
   "execution_count": 110,
   "metadata": {},
   "outputs": [],
   "source": [
    "# Time of day these sightings occur the most\n",
    "# Day of the week these sightings occur the most"
   ]
  },
  {
   "cell_type": "code",
   "execution_count": 111,
   "metadata": {},
   "outputs": [
    {
     "data": {
      "image/png": "[encoded data removed]",
      "text/plain": [
       "<Figure size 432x288 with 1 Axes>"
      ]
     },
     "metadata": {
      "needs_background": "light"
     },
     "output_type": "display_data"
    }
   ],
   "source": [
    "# Most commun day of the week these sightings occur on\n",
    "ax = sns.countplot(x=\"weekday\", data=finaltable)"
   ]
  },
  {
   "cell_type": "code",
   "execution_count": 112,
   "metadata": {},
   "outputs": [
    {
     "data": {
      "image/png": "[encoded data removed]",
      "text/plain": [
       "<Figure size 432x288 with 1 Axes>"
      ]
     },
     "metadata": {
      "needs_background": "light"
     },
     "output_type": "display_data"
    }
   ],
   "source": [
    "# Most commun month of the year these sightings occur on\n",
    "ax = sns.countplot(x=\"month\", data=finaltable)"
   ]
  },
  {
   "cell_type": "code",
   "execution_count": 113,
   "metadata": {},
   "outputs": [
    {
     "data": {
      "text/plain": [
       "count    76628.000000\n",
       "mean      2003.900559\n",
       "std         10.369360\n",
       "min       1910.000000\n",
       "25%       2001.000000\n",
       "50%       2006.000000\n",
       "75%       2011.000000\n",
       "max       2014.000000\n",
       "Name: year, dtype: float64"
      ]
     },
     "execution_count": 113,
     "metadata": {},
     "output_type": "execute_result"
    }
   ],
   "source": [
    "adf['year'].describe()"
   ]
  },
  {
   "cell_type": "code",
   "execution_count": 114,
   "metadata": {},
   "outputs": [
    {
     "data": {
      "text/plain": [
       "2012    7030\n",
       "2013    6722\n",
       "2011    4870\n",
       "2008    4636\n",
       "2009    4339\n",
       "        ... \n",
       "1929       1\n",
       "1930       1\n",
       "1934       1\n",
       "1941       1\n",
       "1920       1\n",
       "Name: year, Length: 86, dtype: int64"
      ]
     },
     "execution_count": 114,
     "metadata": {},
     "output_type": "execute_result"
    }
   ],
   "source": [
    "adf['year'].value_counts()"
   ]
  },
  {
   "cell_type": "code",
   "execution_count": 115,
   "metadata": {},
   "outputs": [
    {
     "data": {
      "image/png": "[encoded data removed]",
      "text/plain": [
       "<Figure size 432x288 with 1 Axes>"
      ]
     },
     "metadata": {
      "needs_background": "light"
     },
     "output_type": "display_data"
    }
   ],
   "source": [
    "# Normally, the amount the sightings should be increasing since more and more poeple are reporting cases   \n",
    "ax = sns.distplot(adf[\"year\"])"
   ]
  },
  {
   "cell_type": "code",
   "execution_count": 116,
   "metadata": {},
   "outputs": [
    {
     "data": {
      "image/png": "[encoded data removed]",
      "text/plain": [
       "<Figure size 432x288 with 1 Axes>"
      ]
     },
     "metadata": {
      "needs_background": "light"
     },
     "output_type": "display_data"
    }
   ],
   "source": [
    "ax = sns.distplot(adf[\"time\"])"
   ]
  },
  {
   "cell_type": "code",
   "execution_count": 117,
   "metadata": {},
   "outputs": [],
   "source": [
    "# Check averag/longest time taken to report "
   ]
  },
  {
   "cell_type": "code",
   "execution_count": 118,
   "metadata": {},
   "outputs": [],
   "source": [
    "# Check average time taken to report for cases before 1990 "
   ]
  },
  {
   "cell_type": "code",
   "execution_count": 119,
   "metadata": {},
   "outputs": [],
   "source": [
    "# Check average time taken to report for cases after 1990 "
   ]
  },
  {
   "cell_type": "markdown",
   "metadata": {},
   "source": [
    "***"
   ]
  },
  {
   "cell_type": "code",
   "execution_count": 120,
   "metadata": {},
   "outputs": [
    {
     "data": {
      "image/png": "[encoded data removed]",
      "text/plain": [
       "<Figure size 1440x360 with 4 Axes>"
      ]
     },
     "metadata": {
      "needs_background": "light"
     },
     "output_type": "display_data"
    }
   ],
   "source": [
    "#Plot distributions for the main features\n",
    "fig, (ax1, ax2, ax3, ax4) = plt.subplots(ncols=4)\n",
    "fig.set_size_inches(20, 5)\n",
    "  \n",
    "\n",
    "ax1.set_title('Sightings by year')\n",
    "sns.distplot(adf.year, ax=ax1)\n",
    "\n",
    "ax2.set_title('Sightings by month of the year')\n",
    "sns.distplot(adf.month, ax=ax2, bins=10)\n",
    "\n",
    "ax3.set_title('Sightings by day of the week')\n",
    "sns.distplot(adf.weekday, ax=ax3,  bins=10)\n",
    "\n",
    "ax4.set_title('Sightings by time of the day')\n",
    "sns.distplot(adf.time, ax=ax4)\n",
    "\n",
    "\n",
    "\n",
    "plt.show()"
   ]
  },
  {
   "cell_type": "code",
   "execution_count": 121,
   "metadata": {
    "scrolled": false
   },
   "outputs": [
    {
     "data": {
      "image/png": "[encoded data removed]",
      "text/plain": [
       "<Figure size 1440x1080 with 2 Axes>"
      ]
     },
     "metadata": {
      "needs_background": "light"
     },
     "output_type": "display_data"
    }
   ],
   "source": [
    "# Print Heatmap\n",
    "corrMatrix=adf.corr()\n",
    "\n",
    "plt.figure(figsize=(20,15))\n",
    "sns.heatmap(corrMatrix, cmap=\"YlGnBu\", annot=True)\n",
    "plt.show()"
   ]
  },
  {
   "cell_type": "code",
   "execution_count": 122,
   "metadata": {
    "scrolled": false
   },
   "outputs": [
    {
     "data": {
      "image/png": "[encoded data removed]",
      "text/plain": [
       "<Figure size 1620x1620 with 81 Axes>"
      ]
     },
     "metadata": {
      "needs_background": "light"
     },
     "output_type": "display_data"
    }
   ],
   "source": [
    "# Print Scatter Plot\n",
    "g = sns.PairGrid(adf)\n",
    "g = g.map(plt.scatter)"
   ]
  },
  {
   "cell_type": "markdown",
   "metadata": {},
   "source": [
    "***\n",
    "***"
   ]
  },
  {
   "cell_type": "markdown",
   "metadata": {},
   "source": [
    "## 3. Modelling"
   ]
  },
  {
   "cell_type": "markdown",
   "metadata": {},
   "source": [
    "**acc** = Accuracy   \n",
    "`True Positive + True Negative`  \n",
    "*= how many correct answers we get*  \n",
    "\n",
    "**pr1** = Precision   \n",
    "`True P / True P + False P`  \n",
    "*= out of all positives, how many positives did we manage to predict*  \n",
    "\n",
    "**rec1** = Recall   \n",
    "`True P / True P + F N`   \n",
    "*= out of all positives we predicted, how much are actually positive*  \n",
    "\n",
    "**f11**  \n",
    "`2 * (precision * recall) / (precision + recall)`   \n",
    "*some sort of average between precision and recall*   "
   ]
  },
  {
   "cell_type": "code",
   "execution_count": 123,
   "metadata": {},
   "outputs": [],
   "source": [
    "# importing necessary libraries \n",
    "from sklearn.preprocessing import StandardScaler\n",
    "\n",
    "from sklearn.model_selection import train_test_split \n",
    "\n",
    "from sklearn.linear_model import LogisticRegression\n",
    "from sklearn.tree import DecisionTreeClassifier \n",
    "from sklearn.ensemble import RandomForestClassifier\n",
    "\n",
    "from sklearn.metrics import confusion_matrix, accuracy_score, recall_score, precision_score, f1_score\n",
    "from sklearn.metrics import auc, roc_auc_score, roc_curve\n",
    "\n",
    "\n",
    "#import joblib"
   ]
  },
  {
   "cell_type": "markdown",
   "metadata": {},
   "source": [
    "### 3.1 Duration"
   ]
  },
  {
   "cell_type": "markdown",
   "metadata": {},
   "source": [
    "- Can we predict the `duration` of the sighting ?"
   ]
  },
  {
   "cell_type": "markdown",
   "metadata": {},
   "source": [
    "**Confidence Interval**"
   ]
  },
  {
   "cell_type": "code",
   "execution_count": 124,
   "metadata": {},
   "outputs": [
    {
     "name": "stdout",
     "output_type": "stream",
     "text": [
      "The average sighting in our sample lasts bewteen 607.78 and 624.92 seconds.\n"
     ]
    }
   ],
   "source": [
    "#Calculate variables:\n",
    " #sample = duration in seconds\n",
    "ds = adf['duration_seconds']\n",
    " #average duration in seconds \n",
    "dsmean = ds.mean()\n",
    " #standard deviation of ds  \n",
    "dsstd = ds.std()\n",
    " #standard error of ds\n",
    "dssem = ds.sem()\n",
    "\n",
    "#Compute confidence interval of the duration with confidence level of 95%\n",
    "ci_ds = t.interval(0.95, df=ds.shape[0]-1, loc=dsmean, scale=dssem)\n",
    "print(\"The average sighting in our sample lasts bewteen\", round(ci_ds[0],2), \n",
    "      \"and\", round(ci_ds[1],2), \"seconds.\")"
   ]
  },
  {
   "cell_type": "markdown",
   "metadata": {},
   "source": [
    "**Two-Tailed One-Sample T-Test**"
   ]
  },
  {
   "cell_type": "code",
   "execution_count": 125,
   "metadata": {},
   "outputs": [
    {
     "name": "stdout",
     "output_type": "stream",
     "text": [
      "stat = 0.0791554611085441 / pvalue = 0.936909176965081 \n",
      "\n",
      "Since pvalue is greater than 0.05, we accept the null hypothesis. \n",
      "\n",
      "Most sightings last 616 seconds.\n"
     ]
    }
   ],
   "source": [
    "#H0 (null hypothesis): most sightings last 616 seconds (around 10 minutes)\n",
    "#H1 (alternative hypothesis): most sightings no dot last 616 seconds (around 10 minutes)\n",
    "\n",
    "stat,pvalue = stats.ttest_1samp(ds,616) \n",
    "\n",
    "if pvalue < 0.05:\n",
    "    print('stat =', stat, '/ pvalue =', pvalue,\n",
    "          '\\n\\nSince pvalue is less than 0.05, we reject the null hypothesis in favor of the alternative.',\n",
    "          '\\n\\nMost sightings do not last not 616 seconds.')\n",
    "else:\n",
    "    print('stat =', stat, '/ pvalue =', pvalue,\n",
    "          '\\n\\nSince pvalue is greater than 0.05, we accept the null hypothesis.',\n",
    "          '\\n\\nMost sightings last 616 seconds.')"
   ]
  },
  {
   "cell_type": "markdown",
   "metadata": {},
   "source": [
    "**One-Tailed One-Sample T-Test**"
   ]
  },
  {
   "cell_type": "code",
   "execution_count": 126,
   "metadata": {},
   "outputs": [
    {
     "name": "stdout",
     "output_type": "stream",
     "text": [
      "stat = 0.0791554611085441 / pvalue = 0.936909176965081 \n",
      "\n",
      "Since pvalue divided by 2 is greater than 0.05, we accept the null hypothesis. \n",
      "\n",
      "Most sightings are greater or equal to 616 seconds.\n"
     ]
    }
   ],
   "source": [
    "#H0 (null hypothesis) = most sightings are greater or equal to 616 seconds (around 10 minutes) \n",
    "#H1 (alternative hypothesis) = most sightings last less than 616 seconds (around 10 minutes)\n",
    "\n",
    "stat,pvalue = stats.ttest_1samp(ds,616) \n",
    "\n",
    "if (pvalue / 2) < 0.05:\n",
    "    print('stat =', stat, '/ pvalue =', pvalue,\n",
    "          '\\n\\nSince pvalue divided by 2 is smaller than 0.05, we reject the null hypothesis in favor of the alternative.',\n",
    "          '\\n\\nMost sightings last less than 616 seconds.')\n",
    "else:\n",
    "    print('stat =', stat, '/ pvalue =', pvalue,\n",
    "          '\\n\\nSince pvalue divided by 2 is greater than 0.05, we accept the null hypothesis.',\n",
    "          '\\n\\nMost sightings are greater or equal to 616 seconds.')"
   ]
  },
  {
   "cell_type": "markdown",
   "metadata": {},
   "source": [
    "**Modelling**"
   ]
  },
  {
   "cell_type": "code",
   "execution_count": 128,
   "metadata": {},
   "outputs": [
    {
     "data": {
      "text/plain": [
       "weekday             int64\n",
       "month               int64\n",
       "year                int64\n",
       "time                int64\n",
       "country_code        int64\n",
       "continent           int64\n",
       "shape                int8\n",
       "duration             int8\n",
       "duration_seconds    int64\n",
       "dtype: object"
      ]
     },
     "execution_count": 128,
     "metadata": {},
     "output_type": "execute_result"
    }
   ],
   "source": [
    "ufo.dtypes"
   ]
  },
  {
   "cell_type": "code",
   "execution_count": 127,
   "metadata": {},
   "outputs": [],
   "source": [
    "# loading the dataset \n",
    "ufo = adf.copy() "
   ]
  },
  {
   "cell_type": "code",
   "execution_count": 129,
   "metadata": {},
   "outputs": [],
   "source": [
    "# X -> features, y -> label \n",
    "X = ufo.drop('duration_seconds',axis=1) \n",
    "y = ufo['duration_seconds'] \n",
    "  \n",
    "# dividing X, y into train and test data \n",
    "X_train, X_test, y_train, y_test = train_test_split(X, y, random_state = 0) "
   ]
  },
  {
   "cell_type": "markdown",
   "metadata": {},
   "source": [
    "**Descision Tree Classifier**"
   ]
  },
  {
   "cell_type": "code",
   "execution_count": 130,
   "metadata": {},
   "outputs": [
    {
     "data": {
      "text/plain": [
       "array([[0, 0, 0, ..., 0, 0, 0],\n",
       "       [0, 0, 0, ..., 0, 0, 0],\n",
       "       [0, 0, 0, ..., 0, 0, 0],\n",
       "       ...,\n",
       "       [0, 0, 0, ..., 0, 0, 0],\n",
       "       [0, 0, 0, ..., 0, 0, 0],\n",
       "       [0, 0, 0, ..., 0, 0, 0]])"
      ]
     },
     "metadata": {},
     "output_type": "display_data"
    },
    {
     "name": "stdout",
     "output_type": "stream",
     "text": [
      "0.2638200135720624 0.07582920112541724 0.2638200135720624 0.11638938316979264\n"
     ]
    }
   ],
   "source": [
    "# training a DescisionTreeClassifier \n",
    "dtree_model = DecisionTreeClassifier(max_depth = 2).fit(X_train, y_train)\n",
    "y_pred1=dtree_model.predict(X_test)\n",
    "\n",
    "# creating a confusion matrix \n",
    "conf1=confusion_matrix(y_test,y_pred1)\n",
    "display(conf1)\n",
    "\n",
    "acc1=accuracy_score(y_test,y_pred1)\n",
    "rec1=recall_score(y_test,y_pred1, average='weighted')\n",
    "pr1=precision_score(y_test,y_pred1, average='weighted')\n",
    "f11=f1_score(y_test,y_pred1, average='weighted')\n",
    "\n",
    "print(acc1,pr1,rec1,f11)"
   ]
  },
  {
   "cell_type": "code",
   "execution_count": 131,
   "metadata": {},
   "outputs": [
    {
     "data": {
      "text/plain": [
       "array([[0, 0, 0, ..., 0, 0, 0],\n",
       "       [0, 0, 0, ..., 0, 0, 0],\n",
       "       [0, 0, 0, ..., 0, 0, 0],\n",
       "       ...,\n",
       "       [0, 0, 0, ..., 0, 0, 0],\n",
       "       [0, 0, 0, ..., 0, 0, 0],\n",
       "       [0, 0, 0, ..., 0, 0, 0]])"
      ]
     },
     "execution_count": 131,
     "metadata": {},
     "output_type": "execute_result"
    }
   ],
   "source": [
    "confusion_matrix(y_train,dtree_model.predict(X_train))"
   ]
  },
  {
   "cell_type": "markdown",
   "metadata": {},
   "source": [
    "**Logistic Regression**"
   ]
  },
  {
   "cell_type": "code",
   "execution_count": 132,
   "metadata": {},
   "outputs": [
    {
     "data": {
      "text/plain": [
       "array([[0, 0, 0, ..., 0, 0, 0],\n",
       "       [0, 0, 0, ..., 0, 0, 0],\n",
       "       [0, 0, 0, ..., 0, 0, 0],\n",
       "       ...,\n",
       "       [0, 0, 0, ..., 0, 0, 0],\n",
       "       [0, 0, 0, ..., 0, 0, 0],\n",
       "       [0, 0, 0, ..., 0, 0, 0]])"
      ]
     },
     "metadata": {},
     "output_type": "display_data"
    },
    {
     "name": "stdout",
     "output_type": "stream",
     "text": [
      "0.26366341285169914 0.10273375874899515 0.26366341285169914 0.11523337488517281\n"
     ]
    }
   ],
   "source": [
    "# training a LogisticRegression\n",
    "lregression_model=LogisticRegression().fit(X_train,y_train)\n",
    "y_pred2=lregression_model.predict(X_test)\n",
    "\n",
    "# creating a confusion matrix \n",
    "conf2=confusion_matrix(y_test,y_pred2)\n",
    "display(conf2)\n",
    "\n",
    "acc2=accuracy_score(y_test,y_pred2)\n",
    "rec2=recall_score(y_test,y_pred2, average='weighted')\n",
    "pr2=precision_score(y_test,y_pred2, average='weighted')\n",
    "f12=f1_score(y_test,y_pred2, average='weighted')\n",
    "\n",
    "print(acc2,pr2,rec2,f12)"
   ]
  },
  {
   "cell_type": "code",
   "execution_count": 133,
   "metadata": {},
   "outputs": [
    {
     "data": {
      "text/plain": [
       "array([[0, 0, 0, ..., 0, 0, 0],\n",
       "       [0, 0, 0, ..., 0, 0, 0],\n",
       "       [0, 0, 0, ..., 0, 0, 0],\n",
       "       ...,\n",
       "       [0, 0, 0, ..., 0, 0, 0],\n",
       "       [0, 0, 0, ..., 0, 0, 0],\n",
       "       [0, 0, 0, ..., 0, 0, 0]])"
      ]
     },
     "execution_count": 133,
     "metadata": {},
     "output_type": "execute_result"
    }
   ],
   "source": [
    "confusion_matrix(y_train,lregression_model.predict(X_train)) "
   ]
  },
  {
   "cell_type": "markdown",
   "metadata": {},
   "source": [
    "***"
   ]
  },
  {
   "cell_type": "markdown",
   "metadata": {},
   "source": [
    "### 3.2 Shape"
   ]
  },
  {
   "cell_type": "markdown",
   "metadata": {},
   "source": [
    "- Can we predict the `shape` of an UFO ?"
   ]
  },
  {
   "cell_type": "markdown",
   "metadata": {},
   "source": [
    "**Modelling**"
   ]
  },
  {
   "cell_type": "code",
   "execution_count": 134,
   "metadata": {},
   "outputs": [],
   "source": [
    "# loading the dataset \n",
    "ufo = finaltable.copy() \n",
    "ufo.drop(['date', 'name', 'latitude', 'longitude', 'geometry', 'comments', 'date_posted', 'duration'], axis=1, inplace=True)"
   ]
  },
  {
   "cell_type": "code",
   "execution_count": 135,
   "metadata": {},
   "outputs": [],
   "source": [
    "# Encode country code and continent as well\n",
    "le = preprocessing.LabelEncoder()\n",
    "\n",
    "ufo['continent'] = le.fit_transform(ufo['continent'])\n",
    "ufo['country_code'] = le.fit_transform(ufo['country_code'])"
   ]
  },
  {
   "cell_type": "code",
   "execution_count": 136,
   "metadata": {},
   "outputs": [
    {
     "data": {
      "text/plain": [
       "weekday              int64\n",
       "month                int64\n",
       "year                 int64\n",
       "time                 int64\n",
       "country_code         int64\n",
       "continent            int64\n",
       "shape               object\n",
       "duration_seconds     int64\n",
       "dtype: object"
      ]
     },
     "execution_count": 136,
     "metadata": {},
     "output_type": "execute_result"
    }
   ],
   "source": [
    "ufo.dtypes"
   ]
  },
  {
   "cell_type": "code",
   "execution_count": 137,
   "metadata": {},
   "outputs": [],
   "source": [
    "# X -> features, y -> label \n",
    "X = ufo.drop('shape',axis=1) \n",
    "y = ufo['shape'] \n",
    "  \n",
    "# dividing X, y into train and test data \n",
    "X_train, X_test, y_train, y_test = train_test_split(X, y, random_state = 0) "
   ]
  },
  {
   "cell_type": "markdown",
   "metadata": {},
   "source": [
    "**Decision Tree Classifier**"
   ]
  },
  {
   "cell_type": "code",
   "execution_count": 138,
   "metadata": {},
   "outputs": [
    {
     "data": {
      "text/plain": [
       "array([[2026, 1684,  676,   75,  154,  596,  556],\n",
       "       [1695, 2292,  830,   71,  221,  616,  619],\n",
       "       [ 656,  764,  384,   34,   78,  273,  235],\n",
       "       [  62,   72,   29,    6,   13,   28,   16],\n",
       "       [ 172,  206,   76,   15,   34,   72,   63],\n",
       "       [ 561,  608,  236,   30,   69,  292,  185],\n",
       "       [ 496,  532,  231,   21,   41,  175,  281]])"
      ]
     },
     "metadata": {},
     "output_type": "display_data"
    },
    {
     "name": "stdout",
     "output_type": "stream",
     "text": [
      "0.27744427624367074 0.28078210610613863 0.27744427624367074 0.27903882528539387\n"
     ]
    }
   ],
   "source": [
    "# training a DescisionTreeClassifier \n",
    "dtree_model = DecisionTreeClassifier().fit(X_train,y_train)\n",
    "y_pred1=dtree_model.predict(X_test)\n",
    "\n",
    "# creating a confusion matrix \n",
    "conf1=confusion_matrix(y_test,y_pred1)\n",
    "display(conf1)\n",
    "\n",
    "acc1=accuracy_score(y_test,y_pred1)\n",
    "rec1=recall_score(y_test,y_pred1, average='weighted')\n",
    "pr1=precision_score(y_test,y_pred1, average='weighted')\n",
    "f11=f1_score(y_test,y_pred1, average='weighted')\n",
    "\n",
    "print(acc1,pr1,rec1,f11)"
   ]
  },
  {
   "cell_type": "code",
   "execution_count": 139,
   "metadata": {},
   "outputs": [
    {
     "data": {
      "text/plain": [
       "array([[17151,    21,     2,     1,     1,     1,     4],\n",
       "       [  279, 18955,     3,     1,     0,     1,     0],\n",
       "       [  129,    89,  7135,     0,     0,     0,     0],\n",
       "       [   15,     6,     4,   675,     0,     0,     0],\n",
       "       [   24,    23,     7,     2,  1710,     1,     0],\n",
       "       [   91,    75,    31,     3,     3,  5688,     0],\n",
       "       [   94,    47,    37,     1,     4,    19,  5138]])"
      ]
     },
     "execution_count": 139,
     "metadata": {},
     "output_type": "execute_result"
    }
   ],
   "source": [
    "confusion_matrix(y_train,dtree_model.predict(X_train))"
   ]
  },
  {
   "cell_type": "markdown",
   "metadata": {},
   "source": [
    "**Logistic Regression**"
   ]
  },
  {
   "cell_type": "code",
   "execution_count": 140,
   "metadata": {},
   "outputs": [
    {
     "data": {
      "text/plain": [
       "array([[1976, 3791,    0,    0,    0,    0,    0],\n",
       "       [1421, 4923,    0,    0,    0,    0,    0],\n",
       "       [ 582, 1842,    0,    0,    0,    0,    0],\n",
       "       [  52,  174,    0,    0,    0,    0,    0],\n",
       "       [ 145,  493,    0,    0,    0,    0,    0],\n",
       "       [ 533, 1448,    0,    0,    0,    0,    0],\n",
       "       [ 430, 1347,    0,    0,    0,    0,    0]])"
      ]
     },
     "metadata": {},
     "output_type": "display_data"
    },
    {
     "name": "stdout",
     "output_type": "stream",
     "text": [
      "0.36012945659550033 0.2320525358163514 0.36012945659550033 0.2692180989056529\n"
     ]
    }
   ],
   "source": [
    "# training a LogisticRegression\n",
    "lregression_model=LogisticRegression(multi_class='multinomial', solver='newton-cg').fit(X_train,y_train)\n",
    "y_pred2=lregression_model.predict(X_test)\n",
    "\n",
    "# creating a confusion matrix \n",
    "conf2=confusion_matrix(y_test,y_pred2)\n",
    "display(conf2)\n",
    "\n",
    "acc2=accuracy_score(y_test,y_pred2)\n",
    "rec2=recall_score(y_test,y_pred2, average='weighted')\n",
    "pr2=precision_score(y_test,y_pred2, average='weighted')\n",
    "f12=f1_score(y_test,y_pred2, average='weighted')\n",
    "\n",
    "print(acc2,pr2,rec2,f12)"
   ]
  },
  {
   "cell_type": "code",
   "execution_count": 141,
   "metadata": {},
   "outputs": [
    {
     "data": {
      "text/plain": [
       "array([[ 5922, 11259,     0,     0,     0,     0,     0],\n",
       "       [ 4219, 15020,     0,     0,     0,     0,     0],\n",
       "       [ 1891,  5462,     0,     0,     0,     0,     0],\n",
       "       [  205,   495,     0,     0,     0,     0,     0],\n",
       "       [  410,  1357,     0,     0,     0,     0,     0],\n",
       "       [ 1620,  4271,     0,     0,     0,     0,     0],\n",
       "       [ 1321,  4019,     0,     0,     0,     0,     0]])"
      ]
     },
     "execution_count": 141,
     "metadata": {},
     "output_type": "execute_result"
    }
   ],
   "source": [
    "confusion_matrix(y_train,lregression_model.predict(X_train)) "
   ]
  },
  {
   "cell_type": "markdown",
   "metadata": {},
   "source": [
    "**Curve**"
   ]
  },
  {
   "cell_type": "code",
   "execution_count": 142,
   "metadata": {
    "scrolled": true
   },
   "outputs": [
    {
     "ename": "ValueError",
     "evalue": "multiclass format is not supported",
     "output_type": "error",
     "traceback": [
      "\u001b[0;31m---------------------------------------------------------------------------\u001b[0m",
      "\u001b[0;31mValueError\u001b[0m                                Traceback (most recent call last)",
      "\u001b[0;32m<ipython-input-142-536ed1a81487>\u001b[0m in \u001b[0;36m<module>\u001b[0;34m\u001b[0m\n\u001b[0;32m----> 1\u001b[0;31m \u001b[0mmodel_roc1\u001b[0m\u001b[0;34m=\u001b[0m\u001b[0mroc_auc_score\u001b[0m\u001b[0;34m(\u001b[0m\u001b[0my_test\u001b[0m\u001b[0;34m,\u001b[0m\u001b[0my_pred1\u001b[0m\u001b[0;34m)\u001b[0m\u001b[0;34m\u001b[0m\u001b[0;34m\u001b[0m\u001b[0m\n\u001b[0m\u001b[1;32m      2\u001b[0m \u001b[0mfpr1\u001b[0m\u001b[0;34m,\u001b[0m\u001b[0mtpr1\u001b[0m\u001b[0;34m,\u001b[0m\u001b[0mthresholds1\u001b[0m\u001b[0;34m=\u001b[0m\u001b[0mroc_curve\u001b[0m\u001b[0;34m(\u001b[0m\u001b[0my_test\u001b[0m\u001b[0;34m,\u001b[0m \u001b[0mdtree_model\u001b[0m\u001b[0;34m.\u001b[0m\u001b[0mpredict_proba\u001b[0m\u001b[0;34m(\u001b[0m\u001b[0mX_test\u001b[0m\u001b[0;34m)\u001b[0m\u001b[0;34m[\u001b[0m\u001b[0;34m:\u001b[0m\u001b[0;34m,\u001b[0m\u001b[0;36m1\u001b[0m\u001b[0;34m]\u001b[0m\u001b[0;34m)\u001b[0m\u001b[0;34m\u001b[0m\u001b[0;34m\u001b[0m\u001b[0m\n\u001b[1;32m      3\u001b[0m \u001b[0;34m\u001b[0m\u001b[0m\n\u001b[1;32m      4\u001b[0m \u001b[0mmodel_roc2\u001b[0m\u001b[0;34m=\u001b[0m\u001b[0mroc_auc_score\u001b[0m\u001b[0;34m(\u001b[0m\u001b[0my_test\u001b[0m\u001b[0;34m,\u001b[0m \u001b[0my_pred2\u001b[0m\u001b[0;34m)\u001b[0m\u001b[0;34m\u001b[0m\u001b[0;34m\u001b[0m\u001b[0m\n\u001b[1;32m      5\u001b[0m \u001b[0mfpr2\u001b[0m\u001b[0;34m,\u001b[0m\u001b[0mtpr2\u001b[0m\u001b[0;34m,\u001b[0m\u001b[0mthresholds2\u001b[0m\u001b[0;34m=\u001b[0m\u001b[0mroc_curve\u001b[0m\u001b[0;34m(\u001b[0m\u001b[0my_test\u001b[0m\u001b[0;34m,\u001b[0m \u001b[0mlregression_model\u001b[0m\u001b[0;34m.\u001b[0m\u001b[0mpredict_proba\u001b[0m\u001b[0;34m(\u001b[0m\u001b[0mX_test\u001b[0m\u001b[0;34m)\u001b[0m\u001b[0;34m[\u001b[0m\u001b[0;34m:\u001b[0m\u001b[0;34m,\u001b[0m\u001b[0;36m1\u001b[0m\u001b[0;34m]\u001b[0m\u001b[0;34m)\u001b[0m\u001b[0;34m\u001b[0m\u001b[0;34m\u001b[0m\u001b[0m\n",
      "\u001b[0;32m/Applications/anaconda3/lib/python3.7/site-packages/sklearn/metrics/ranking.py\u001b[0m in \u001b[0;36mroc_auc_score\u001b[0;34m(y_true, y_score, average, sample_weight, max_fpr)\u001b[0m\n\u001b[1;32m    353\u001b[0m     return _average_binary_score(\n\u001b[1;32m    354\u001b[0m         \u001b[0m_binary_roc_auc_score\u001b[0m\u001b[0;34m,\u001b[0m \u001b[0my_true\u001b[0m\u001b[0;34m,\u001b[0m \u001b[0my_score\u001b[0m\u001b[0;34m,\u001b[0m \u001b[0maverage\u001b[0m\u001b[0;34m,\u001b[0m\u001b[0;34m\u001b[0m\u001b[0;34m\u001b[0m\u001b[0m\n\u001b[0;32m--> 355\u001b[0;31m         sample_weight=sample_weight)\n\u001b[0m\u001b[1;32m    356\u001b[0m \u001b[0;34m\u001b[0m\u001b[0m\n\u001b[1;32m    357\u001b[0m \u001b[0;34m\u001b[0m\u001b[0m\n",
      "\u001b[0;32m/Applications/anaconda3/lib/python3.7/site-packages/sklearn/metrics/base.py\u001b[0m in \u001b[0;36m_average_binary_score\u001b[0;34m(binary_metric, y_true, y_score, average, sample_weight)\u001b[0m\n\u001b[1;32m     71\u001b[0m     \u001b[0my_type\u001b[0m \u001b[0;34m=\u001b[0m \u001b[0mtype_of_target\u001b[0m\u001b[0;34m(\u001b[0m\u001b[0my_true\u001b[0m\u001b[0;34m)\u001b[0m\u001b[0;34m\u001b[0m\u001b[0;34m\u001b[0m\u001b[0m\n\u001b[1;32m     72\u001b[0m     \u001b[0;32mif\u001b[0m \u001b[0my_type\u001b[0m \u001b[0;32mnot\u001b[0m \u001b[0;32min\u001b[0m \u001b[0;34m(\u001b[0m\u001b[0;34m\"binary\"\u001b[0m\u001b[0;34m,\u001b[0m \u001b[0;34m\"multilabel-indicator\"\u001b[0m\u001b[0;34m)\u001b[0m\u001b[0;34m:\u001b[0m\u001b[0;34m\u001b[0m\u001b[0;34m\u001b[0m\u001b[0m\n\u001b[0;32m---> 73\u001b[0;31m         \u001b[0;32mraise\u001b[0m \u001b[0mValueError\u001b[0m\u001b[0;34m(\u001b[0m\u001b[0;34m\"{0} format is not supported\"\u001b[0m\u001b[0;34m.\u001b[0m\u001b[0mformat\u001b[0m\u001b[0;34m(\u001b[0m\u001b[0my_type\u001b[0m\u001b[0;34m)\u001b[0m\u001b[0;34m)\u001b[0m\u001b[0;34m\u001b[0m\u001b[0;34m\u001b[0m\u001b[0m\n\u001b[0m\u001b[1;32m     74\u001b[0m \u001b[0;34m\u001b[0m\u001b[0m\n\u001b[1;32m     75\u001b[0m     \u001b[0;32mif\u001b[0m \u001b[0my_type\u001b[0m \u001b[0;34m==\u001b[0m \u001b[0;34m\"binary\"\u001b[0m\u001b[0;34m:\u001b[0m\u001b[0;34m\u001b[0m\u001b[0;34m\u001b[0m\u001b[0m\n",
      "\u001b[0;31mValueError\u001b[0m: multiclass format is not supported"
     ]
    }
   ],
   "source": [
    "model_roc1=roc_auc_score(y_test,y_pred1)\n",
    "fpr1,tpr1,thresholds1=roc_curve(y_test, dtree_model.predict_proba(X_test)[:,1])\n",
    "\n",
    "model_roc2=roc_auc_score(y_test, y_pred2)\n",
    "fpr2,tpr2,thresholds2=roc_curve(y_test, lregression_model.predict_proba(X_test)[:,1])\n",
    "\n",
    "\n",
    "plt.figure()\n",
    "plt.plot(fpr1,tpr1, label=f'Decision Tree Classifier={model_roc1.round(2)}')\n",
    "plt.plot(fpr2,tpr2, label=f'Logistic Regression={model_roc2.round(2)}')\n",
    "\n",
    "plt.plot([0,1],[0,1])\n",
    "plt.legend()\n",
    "plt.show()"
   ]
  },
  {
   "cell_type": "markdown",
   "metadata": {},
   "source": [
    "**Random Forest**"
   ]
  },
  {
   "cell_type": "code",
   "execution_count": 143,
   "metadata": {},
   "outputs": [
    {
     "name": "stdout",
     "output_type": "stream",
     "text": [
      "0    0\n",
      "1    1\n",
      "2    0\n",
      "3    0\n",
      "4    1\n",
      "Name: shape, dtype: int64\n",
      "Index(['circular', 'bright', 'unspecified', 'complicated', 'quadrilateral',\n",
      "       'hexagonal', 'triangular'],\n",
      "      dtype='object')\n"
     ]
    }
   ],
   "source": [
    "#Creating the dependent variable class \n",
    "factor = pd.factorize(ufo['shape']) \n",
    "ufo['shape'] = factor[0] \n",
    "definitions = factor[1] \n",
    "print(ufo['shape'].head()) \n",
    "print(definitions)"
   ]
  },
  {
   "cell_type": "code",
   "execution_count": 144,
   "metadata": {},
   "outputs": [
    {
     "name": "stdout",
     "output_type": "stream",
     "text": [
      "The independent features set: \n",
      "[[   0   10 1949 2030]\n",
      " [   0   10 1949 2100]\n",
      " [   0   10 1955 1700]\n",
      " [   2   10 1956 2100]\n",
      " [   0   10 1960 2000]]\n",
      "The dependent variable: \n",
      "[124 124  43 124 124]\n"
     ]
    }
   ],
   "source": [
    "#Splitting the data into independent and dependent variables \n",
    "X = ufo.iloc[:,0:4].values \n",
    "y = ufo.iloc[:,4].values \n",
    "print('The independent features set: ') \n",
    "print(X[:5,:]) \n",
    "print('The dependent variable: ') \n",
    "print(y[:5])"
   ]
  },
  {
   "cell_type": "code",
   "execution_count": 145,
   "metadata": {},
   "outputs": [
    {
     "data": {
      "text/plain": [
       "RandomForestClassifier(bootstrap=True, class_weight=None, criterion='entropy',\n",
       "                       max_depth=None, max_features='auto', max_leaf_nodes=None,\n",
       "                       min_impurity_decrease=0.0, min_impurity_split=None,\n",
       "                       min_samples_leaf=1, min_samples_split=2,\n",
       "                       min_weight_fraction_leaf=0.0, n_estimators=10,\n",
       "                       n_jobs=None, oob_score=False, random_state=42, verbose=0,\n",
       "                       warm_start=False)"
      ]
     },
     "execution_count": 145,
     "metadata": {},
     "output_type": "execute_result"
    }
   ],
   "source": [
    "# Creating the Training and Test set from data \n",
    "X_train, X_test, y_train, y_test = train_test_split(X, y, test_size = 0.25, random_state = 21)\n",
    "\n",
    "# Feature Scaling \n",
    "scaler = StandardScaler() \n",
    "X_train = scaler.fit_transform(X_train) \n",
    "X_test = scaler.transform(X_test)\n",
    "\n",
    "# Fitting Random Forest Classification to the Training set \n",
    "classifier = RandomForestClassifier(n_estimators = 10, criterion = 'entropy', random_state = 42) \n",
    "classifier.fit(X_train, y_train)"
   ]
  },
  {
   "cell_type": "code",
   "execution_count": 146,
   "metadata": {},
   "outputs": [
    {
     "name": "stdout",
     "output_type": "stream",
     "text": [
      "Empty DataFrame\n",
      "Columns: []\n",
      "Index: []\n"
     ]
    }
   ],
   "source": [
    "# Predicting the Test set results \n",
    "y_pred = classifier.predict(X_test) \n",
    "\n",
    "#Reverse factorize (converting y_pred from 0s,1s and 2s to Iris-setosa, Iris-versicolor and Iris-virginica) \n",
    "reversefactor = dict(zip(range(3),definitions)) \n",
    "y_test = np.vectorize(reversefactor.get)(y_test) \n",
    "y_pred = np.vectorize(reversefactor.get)(y_pred) \n",
    "\n",
    "# Making the Confusion Matrix\n",
    "print(pd.crosstab(y_test, y_pred, rownames=['Actual Shapes'], colnames=['Predicted Shapes']))"
   ]
  },
  {
   "cell_type": "markdown",
   "metadata": {},
   "source": [
    "**One-vs-the-rest (OvR) multiclass/multilabel strategy**\n",
    "Also known as one-vs-all, this strategy consists in fitting one classifier\n",
    "per class. For each classifier, the class is fitted against all the other\n",
    "classes.\n",
    "*In the multilabel learning literature, OvR is also known as the binary relevance method.*"
   ]
  },
  {
   "cell_type": "raw",
   "metadata": {},
   "source": [
    "from itertools import cycle\n",
    "from sklearn import svm, datasets\n",
    "from sklearn.metrics import roc_curve, auc\n",
    "from sklearn.model_selection import train_test_split\n",
    "from sklearn.preprocessing import label_binarize\n",
    "from sklearn.multiclass import OneVsRestClassifier\n",
    "from scipy import interp\n",
    "from sklearn.metrics import roc_auc_score"
   ]
  },
  {
   "cell_type": "raw",
   "metadata": {},
   "source": [
    "X = ufo.drop('shape',axis=1) \n",
    "y = ufo['shape'] \n",
    "\n",
    "# Binarize the output\n",
    "y = label_binarize(y, classes=[0, 1, 2, 3, 4, 5, 6, 7])\n",
    "n_classes = y.shape[1]\n",
    "\n",
    "# Add noisy features to make the problem harder\n",
    "random_state = np.random.RandomState(0)\n",
    "n_samples, n_features = X.shape\n",
    "X = np.c_[X, random_state.randn(n_samples, 200 * n_features)]\n",
    "\n",
    "# shuffle and split training and test sets\n",
    "X_train, X_test, y_train, y_test = train_test_split(X, y, random_state=0)\n",
    "\n",
    "# Learn to predict each class against the other\n",
    "classifier = OneVsRestClassifier(svm.SVC(kernel='linear', probability=True,\n",
    "                                 random_state=random_state))\n",
    "y_score = classifier.fit(X_train, y_train).decision_function(X_test)\n",
    "\n",
    "# Compute ROC curve and ROC area for each class\n",
    "fpr = dict()\n",
    "tpr = dict()\n",
    "roc_auc = dict()\n",
    "for i in range(n_classes):\n",
    "    fpr[i], tpr[i], _ = roc_curve(y_test[:, i], y_score[:, i])\n",
    "    roc_auc[i] = auc(fpr[i], tpr[i])\n",
    "\n",
    "# Compute micro-average ROC curve and ROC area\n",
    "fpr[\"micro\"], tpr[\"micro\"], _ = roc_curve(y_test.ravel(), y_score.ravel())\n",
    "roc_auc[\"micro\"] = auc(fpr[\"micro\"], tpr[\"micro\"])"
   ]
  },
  {
   "cell_type": "raw",
   "metadata": {},
   "source": [
    "plt.figure()\n",
    "lw = 2\n",
    "plt.plot(fpr[2], tpr[2], color='darkorange',\n",
    "         lw=lw, label='ROC curve (area = %0.2f)' % roc_auc[2])\n",
    "plt.plot([0, 1], [0, 1], color='navy', lw=lw, linestyle='--')\n",
    "plt.xlim([0.0, 1.0])\n",
    "plt.ylim([0.0, 1.05])\n",
    "plt.xlabel('False Positive Rate')\n",
    "plt.ylabel('True Positive Rate')\n",
    "plt.title('Receiver operating characteristic example')\n",
    "plt.legend(loc=\"lower right\")\n",
    "plt.show()"
   ]
  }
 ],
 "metadata": {
  "kernelspec": {
   "display_name": "Python 3",
   "language": "python",
   "name": "python3"
  },
  "language_info": {
   "codemirror_mode": {
    "name": "ipython",
    "version": 3
   },
   "file_extension": ".py",
   "mimetype": "text/x-python",
   "name": "python",
   "nbconvert_exporter": "python",
   "pygments_lexer": "ipython3",
   "version": "3.7.4"
  }
 },
 "nbformat": 4,
 "nbformat_minor": 2
}
